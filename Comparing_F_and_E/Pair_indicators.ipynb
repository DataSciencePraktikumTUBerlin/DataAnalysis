{
 "cells": [
  {
   "cell_type": "markdown",
   "metadata": {},
   "source": [
    "## This Notebook\n",
    "shows how the paired indicators were plotted, using the data stored in **gen_DF**"
   ]
  },
  {
   "cell_type": "code",
   "execution_count": null,
   "metadata": {},
   "outputs": [],
   "source": [
    "import pandas as pd\n",
    "from matplotlib import pyplot as plt\n",
    "import seaborn as sns"
   ]
  },
  {
   "cell_type": "code",
   "execution_count": null,
   "metadata": {},
   "outputs": [],
   "source": [
    "# Read the data and metadata\n",
    "df_meta = pd.read_csv('Indicators_metadata.csv', index_col='INDICATOR')\n",
    "df_Big = pd.read_csv('gen_DF.csv', index_col=0)"
   ]
  },
  {
   "cell_type": "code",
   "execution_count": null,
   "metadata": {},
   "outputs": [],
   "source": [
    "# Select the iindicators from each side to be paired\n",
    "sel_e = [#'Asset investment in renewables',\n",
    "         #'Electricity Consumption',\n",
    "         'Electricity generation',\n",
    "         #'Electricity generation from other',\n",
    "         #'Electricity Production',\n",
    "         'Energy intensity-primary energy',\n",
    "         #'Primary Energy-Consumption',\n",
    "         'Renewables-Consumption Prim Energy',\n",
    "         #'Renewable Energy Solar (Installed capacity)',\n",
    "         #'Renewable Energy Wind  (Installed capacity)',\n",
    "         #'Renewable installed PV Power',\n",
    "         #'Renewable installed Wind Power',\n",
    "         #'Renewable share electricity output',\n",
    "         #'Renewable share electricity production',\n",
    "         #'Renewable share energy of TFEC',\n",
    "         #'Total electricity output',\n",
    "         #'Total final energy consumption (TFEC)',\n",
    "         #'Wind and solar share electricity production'\n",
    "         ]\n",
    "\n",
    "sel_f = [#'Government R&D',\n",
    "         #'Corporate R&D',\n",
    "         #'Venture capital',\n",
    "         #'Private equity expansion capital',\n",
    "         #'Public markets',\n",
    "         #'Asset finance',\n",
    "         #'Asset Finance minus Re-invested equity',\n",
    "         #'Small distributed capacity',\n",
    "         #'Private equity buy-outs',\n",
    "         #'Public markets investor exits',\n",
    "         'Corporate M&A',\n",
    "         #'Project acquisition & refinancing',\n",
    "         #'Total: M&A/ buy-outs etc.',\n",
    "         'Number of policies'\n",
    "         ]"
   ]
  },
  {
   "cell_type": "code",
   "execution_count": null,
   "metadata": {},
   "outputs": [],
   "source": [
    "# Aggregate if wanted/needed\n",
    "#df_Big = df_Big.groupby('Year').mean()\n",
    "df_Big_agg = df_Big.groupby('Year').sum()"
   ]
  },
  {
   "cell_type": "code",
   "execution_count": 6,
   "metadata": {},
   "outputs": [],
   "source": [
    "# Proceed to plot\n",
    "\n",
    "with sns.plotting_context(\"notebook\", font_scale=2):    \n",
    "    for col_e in sel_e:\n",
    "        for col_f in sel_f:\n",
    "            # Normalize the values of the axes (Indicators)\n",
    "            df_Big[col_e] = df_Big[col_e] / df_Big[col_e].max()\n",
    "            df_Big[col_f] = df_Big[col_f] / df_Big[col_f].max()\n",
    "            df_Big_agg[col_e] = df_Big_agg[col_e] / df_Big_agg[col_e].max()\n",
    "            df_Big_agg[col_f] = df_Big_agg[col_f] / df_Big_agg[col_f].max()\n",
    "            # Generate Plots\n",
    "            lm = sns.lmplot(x=col_e, y=col_f, data=df_Big, hue = 'Country'\n",
    "                            ,height=8.27, aspect=11.7/8.27, legend_out=False)\n",
    "            # Save the figures\n",
    "            plt.savefig(f\"pair_plots/{col_f.replace(' ','_').replace('.','').replace('/','').replace(':','_')}_VS_{col_e}.jpg\") \n",
    "            plt.close()\n",
    "            # Generate Plots aggregate\n",
    "            lm_agg = sns.lmplot(x=col_e, y=col_f, data=df_Big_agg\n",
    "                            ,height=8.27, aspect=11.7/8.27, legend_out=False)\n",
    "            # Save the figures aggregate\n",
    "            plt.savefig(f\"pair_plots/{col_f.replace(' ','_').replace('.','').replace('/','').replace(':','_')}_VS_{col_e}_Agg.jpg\") \n",
    "            plt.close()"
   ]
  }
 ],
 "metadata": {
  "kernelspec": {
   "display_name": "Python 3",
   "language": "python",
   "name": "python3"
  },
  "language_info": {
   "codemirror_mode": {
    "name": "ipython",
    "version": 3
   },
   "file_extension": ".py",
   "mimetype": "text/x-python",
   "name": "python",
   "nbconvert_exporter": "python",
   "pygments_lexer": "ipython3",
   "version": "3.8.3"
  }
 },
 "nbformat": 4,
 "nbformat_minor": 4
}
