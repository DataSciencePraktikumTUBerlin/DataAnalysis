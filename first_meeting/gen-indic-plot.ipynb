{
 "cells": [
  {
   "cell_type": "markdown",
   "metadata": {},
   "source": [
    "# Generate simple plot for (every) indicator\n",
    "This **pipeline** shows how to generate a simple sinlge plot beginning with any .csv file in the *source* folder. It is a generic version, which means that for each file minor changes will be needed."
   ]
  },
  {
   "cell_type": "markdown",
   "metadata": {},
   "source": [
    "## Preliminars"
   ]
  },
  {
   "cell_type": "code",
   "execution_count": 1,
   "metadata": {},
   "outputs": [],
   "source": [
    "# Imports\n",
    "import pandas as pd\n",
    "import numpy as np\n",
    "import seaborn as sns\n",
    "import matplotlib.pyplot as plt"
   ]
  },
  {
   "cell_type": "code",
   "execution_count": 2,
   "metadata": {},
   "outputs": [],
   "source": [
    "# Call desired data\n",
    "df_meta = pd.read_csv('Indicators_metadata.csv')\n",
    "source_name = 'bp_elec_gen'\n",
    "df = pd.read_csv('source_data/Energy/' + source_name + '.csv')"
   ]
  },
  {
   "cell_type": "code",
   "execution_count": 3,
   "metadata": {},
   "outputs": [],
   "source": [
    "# call metadata of the indicator\n",
    "df_meta_temp = df_meta.set_index('SOURCE FILE')\n",
    "Units_ind= df_meta_temp['UNIT'][source_name]\n",
    "Origin_ind= df_meta_temp['SITE'][source_name]\n",
    "Name_ind =  df_meta_temp['INDICATOR'][source_name]\n",
    "Key_ind =  df_meta_temp['KEY'][source_name]\n",
    "Desc_ind =  df_meta_temp['DESCRIPTION'][source_name]"
   ]
  },
  {
   "cell_type": "markdown",
   "metadata": {},
   "source": [
    "### Preview of the DataFrame"
   ]
  },
  {
   "cell_type": "code",
   "execution_count": null,
   "metadata": {},
   "outputs": [],
   "source": [
    "# Check column names\n",
    "df.columns"
   ]
  },
  {
   "cell_type": "code",
   "execution_count": null,
   "metadata": {},
   "outputs": [],
   "source": [
    "# Check country name available\n",
    "#df_p=df_p.rename(columns={'':'Country'})\n",
    "df.Country.unique()"
   ]
  },
  {
   "cell_type": "code",
   "execution_count": null,
   "metadata": {},
   "outputs": [],
   "source": [
    "# Check column characteristics\n",
    "df.describe()"
   ]
  },
  {
   "cell_type": "markdown",
   "metadata": {},
   "source": [
    "### Set Index temporarily to ease manipulation and guarantee final homogeneity"
   ]
  },
  {
   "cell_type": "code",
   "execution_count": 4,
   "metadata": {},
   "outputs": [],
   "source": [
    "index = ['Country']\n",
    "df=df.set_index(index)"
   ]
  },
  {
   "cell_type": "markdown",
   "metadata": {},
   "source": [
    "### Select countries and time range"
   ]
  },
  {
   "cell_type": "code",
   "execution_count": 5,
   "metadata": {},
   "outputs": [],
   "source": [
    "# Assign selected Countries (carefull with the names: Case sensitive, etc.)\n",
    "sel_c = ['US', 'India', 'Germany','China']\n",
    "# Assign selected Years or interval\n",
    "sel_y = [2000,2019]#one member more\n",
    "sel_years = [*range(sel_y[0],sel_y[1])] #using unpacking(*) operator\n",
    "sel_years = [str(x) for x in sel_years]"
   ]
  },
  {
   "cell_type": "code",
   "execution_count": 6,
   "metadata": {},
   "outputs": [],
   "source": [
    "# Apply selection criteria\n",
    "df_p = df[sel_years][df.index.isin(sel_c)]"
   ]
  },
  {
   "cell_type": "markdown",
   "metadata": {},
   "source": [
    "### Reform the DF to a suitable form and reset Index"
   ]
  },
  {
   "cell_type": "code",
   "execution_count": null,
   "metadata": {},
   "outputs": [],
   "source": [
    "# Reset index to return DF to a tidy state\n",
    "#df_p=df.reset_index()"
   ]
  },
  {
   "cell_type": "code",
   "execution_count": 7,
   "metadata": {},
   "outputs": [],
   "source": [
    "# Melt to a Long format\n",
    "df_p=df_p.reset_index().melt(id_vars='Country')\n",
    "#df_p2=df_p.melt()"
   ]
  },
  {
   "cell_type": "code",
   "execution_count": null,
   "metadata": {},
   "outputs": [],
   "source": [
    "df_p.head()"
   ]
  },
  {
   "cell_type": "markdown",
   "metadata": {},
   "source": [
    "### Do further necessary adjustments"
   ]
  },
  {
   "cell_type": "code",
   "execution_count": null,
   "metadata": {},
   "outputs": [],
   "source": [
    "# Show column types\n",
    "display(df_p.dtypes) "
   ]
  },
  {
   "cell_type": "code",
   "execution_count": null,
   "metadata": {},
   "outputs": [],
   "source": [
    "# Coerce column types when needed\n",
    "#df_p.value=pd.to_numeric(df_p.value)\n",
    "# instedad of 'to_numeric()', 'astype()' or '.apply()' could have been used"
   ]
  },
  {
   "cell_type": "code",
   "execution_count": null,
   "metadata": {},
   "outputs": [],
   "source": [
    "# Group when timestamps shorter than a year \n",
    "#df_p=df_p.groupby(['country','Year']).sum()"
   ]
  },
  {
   "cell_type": "code",
   "execution_count": 8,
   "metadata": {},
   "outputs": [],
   "source": [
    "# Rename columns to improve coding readability\n",
    "df_p=df_p.rename(columns={'variable':'year'})\n",
    "df_p=df_p.rename(columns={'value':'elec_gen'})"
   ]
  },
  {
   "cell_type": "code",
   "execution_count": null,
   "metadata": {},
   "outputs": [],
   "source": [
    "df_p.head()"
   ]
  },
  {
   "cell_type": "markdown",
   "metadata": {},
   "source": [
    "### Plot the indicator"
   ]
  },
  {
   "cell_type": "code",
   "execution_count": null,
   "metadata": {},
   "outputs": [],
   "source": [
    "# Here some features of the seaborn package or an eventual coupling \n",
    "# with R to use the GGPlot library is to be introduced\n",
    "# Use Guillermo's preferences for graph aesthetics\n",
    "sns.set_context('notebook')\n",
    "sns.set_style('darkgrid')\n",
    "sns.set(font_scale=1.5)"
   ]
  },
  {
   "cell_type": "code",
   "execution_count": null,
   "metadata": {},
   "outputs": [],
   "source": [
    "# Simple Plot\n",
    "plt.figure()\n",
    "sns.pointplot(x='year', y='elec_gen', data=df_p, hue='Country')\n",
    "plt.ylabel(Units_ind)\n",
    "#plt.xlabel('Month')\n",
    "plt.legend(loc=1)"
   ]
  },
  {
   "cell_type": "code",
   "execution_count": null,
   "metadata": {
    "scrolled": true
   },
   "outputs": [],
   "source": [
    "# Sophisticated Plot\n",
    "\n",
    "# Set figure size (width, height) in inches \n",
    "fig, ax = plt.subplots(figsize = ( 15 , 6 )) \n",
    "  \n",
    "# Plot the scatterplot \n",
    "sns.pointplot(ax = ax , x='year', y='elec_gen', data=df_p, hue='Country')\n",
    "#sns.scatterplot( ax = ax , x='Year', y='value', data=df_graph) \n",
    "\n",
    "# Set Subtitle \n",
    "text_ind = '\\n'.join((Desc_ind, \" \", Origin_ind))\n",
    "plt.text(x=0.2, y=0.8, s=text_ind, fontsize=15, transform=ax.transAxes,  bbox=dict(facecolor='wheat', alpha=0.4))\n",
    "\n",
    "# Set label for x-axis \n",
    "ax.set_xlabel( 'Years' , size = 12 ) \n",
    "  \n",
    "# Set label for y-axis \n",
    "ax.set_ylabel( Units_ind , size = 12 ) \n",
    "  \n",
    "# Set title for plot \n",
    "ax.set_title( Name_ind , size = 24 ) \n",
    "\n",
    "# Save the figure\n",
    "plt.savefig(Key_ind+'.jpg')\n",
    "\n",
    "# Display figure \n",
    "plt.show() "
   ]
  }
 ],
 "metadata": {
  "kernelspec": {
   "display_name": "Python 3",
   "language": "python",
   "name": "python3"
  },
  "language_info": {
   "codemirror_mode": {
    "name": "ipython",
    "version": 3
   },
   "file_extension": ".py",
   "mimetype": "text/x-python",
   "name": "python",
   "nbconvert_exporter": "python",
   "pygments_lexer": "ipython3",
   "version": "3.8.3"
  }
 },
 "nbformat": 4,
 "nbformat_minor": 4
}
