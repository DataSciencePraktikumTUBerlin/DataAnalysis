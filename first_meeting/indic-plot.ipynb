{
 "cells": [
  {
   "cell_type": "markdown",
   "metadata": {},
   "source": [
    "# Generate simple plot for (every) indicator\n",
    "This **pipeline** shows how to generate a simple sinlge plot beginning with any .csv file in the *source* folder. It is a generic version, which means that for each file minor changes will be needed."
   ]
  },
  {
   "cell_type": "markdown",
   "metadata": {},
   "source": [
    "## Preliminars"
   ]
  },
  {
   "cell_type": "code",
   "execution_count": null,
   "metadata": {},
   "outputs": [],
   "source": [
    "# Imports\n",
    "import pandas as pd\n",
    "import numpy as np\n",
    "import seaborn as sns\n",
    "import matplotlib.pyplot as plt"
   ]
  },
  {
   "cell_type": "code",
   "execution_count": null,
   "metadata": {},
   "outputs": [],
   "source": [
    "# Call desired data\n",
    "df_meta = pd.read_csv('Indicators_metadata.csv')\n",
    "source_name = 'wbank_Indic'\n",
    "df = pd.read_csv('source_data/Energy/' + source_name + '.csv')"
   ]
  },
  {
   "cell_type": "markdown",
   "metadata": {},
   "source": [
    "### Preview of the DataFrame"
   ]
  },
  {
   "cell_type": "code",
   "execution_count": null,
   "metadata": {},
   "outputs": [],
   "source": [
    "# Check column names\n",
    "df.columns"
   ]
  },
  {
   "cell_type": "code",
   "execution_count": null,
   "metadata": {},
   "outputs": [],
   "source": [
    "df.head()"
   ]
  },
  {
   "cell_type": "code",
   "execution_count": null,
   "metadata": {},
   "outputs": [],
   "source": [
    "# Rename column Country column\n",
    "df=df.rename(columns={'Country Name':'Country'})"
   ]
  },
  {
   "cell_type": "code",
   "execution_count": null,
   "metadata": {},
   "outputs": [],
   "source": [
    "# Check country name available\n",
    "df.Country.unique()"
   ]
  },
  {
   "cell_type": "code",
   "execution_count": null,
   "metadata": {},
   "outputs": [],
   "source": [
    "# Check column characteristics\n",
    "df.describe()"
   ]
  },
  {
   "cell_type": "markdown",
   "metadata": {},
   "source": [
    "### Set Index temporarily to ease manipulation and guarantee final homogeneity"
   ]
  },
  {
   "cell_type": "code",
   "execution_count": null,
   "metadata": {},
   "outputs": [],
   "source": [
    "index = ['Country']\n",
    "df=df.set_index(index)"
   ]
  },
  {
   "cell_type": "markdown",
   "metadata": {},
   "source": [
    "### Select countries and time range"
   ]
  },
  {
   "cell_type": "code",
   "execution_count": null,
   "metadata": {},
   "outputs": [],
   "source": [
    "# Assign selected Countries (carefull with the names: Case sensitive, etc.)\n",
    "sel_c = ['United States', 'India', 'Germany','China']\n",
    "# Assign selected Years or interval\n",
    "sel_y = [2000,2019]#one member more\n",
    "sel_years = [*range(sel_y[0],sel_y[1])] #using unpacking(*) operator\n",
    "sel_years_txt = [str(x) for x in sel_years]"
   ]
  },
  {
   "cell_type": "code",
   "execution_count": null,
   "metadata": {},
   "outputs": [],
   "source": [
    "# Apply selection criteria\n",
    "df_p = df[(df['Time']>sel_y[0])&(df['Time']<sel_y[1])]\n",
    "df_p=df_p[df_p.index.isin(sel_c)]"
   ]
  },
  {
   "cell_type": "code",
   "execution_count": null,
   "metadata": {},
   "outputs": [],
   "source": [
    "df.describe()"
   ]
  },
  {
   "cell_type": "markdown",
   "metadata": {},
   "source": [
    "### Reform the DF to a suitable form"
   ]
  },
  {
   "cell_type": "code",
   "execution_count": null,
   "metadata": {},
   "outputs": [],
   "source": [
    "# Rename columns to improve coding readability (USING 'KEYs' as referenced in the metadata file)\n",
    "df_p=df_p.rename(columns={'Total electricity output (GWh) [4.1.1_TOTAL.ELECTRICITY.OUTPUT]':'a_eprod'})\n",
    "df_p=df_p.rename(columns={'Total final energy consumption (TFEC) (TJ) [1.1_TOTAL.FINAL.ENERGY.CONSUM]':'a_econ'})\n",
    "df_p=df_p.rename(columns={'Energy intensity level of primary energy (MJ/2011 USD PPP) [6.1_PRIMARY.ENERGY.INTENSITY]':'a_inten'})\n",
    "df_p=df_p.rename(columns={'Renewable electricity share of total electricity output (%) [4.1_SHARE.RE.IN.ELECTRICITY]':'a_sharo'})\n",
    "df_p=df_p.rename(columns={'Renewable energy share of TFEC (%) [2.1_SHARE.TOTAL.RE.IN.TFEC]':'a_shart'})\n",
    "df_p=df_p.rename(columns={'Time':'Years'})"
   ]
  },
  {
   "cell_type": "code",
   "execution_count": null,
   "metadata": {},
   "outputs": [],
   "source": [
    "df_p.columns"
   ]
  },
  {
   "cell_type": "code",
   "execution_count": null,
   "metadata": {},
   "outputs": [],
   "source": [
    "# De-select undesired columns\n",
    "df_p=df_p[['Years','a_eprod', 'a_econ', 'a_inten', 'a_sharo', 'a_shart']]"
   ]
  },
  {
   "cell_type": "code",
   "execution_count": null,
   "metadata": {},
   "outputs": [],
   "source": [
    "# Reset index to return DF to a tidy state\n",
    "df_p=df_p.reset_index()"
   ]
  },
  {
   "cell_type": "code",
   "execution_count": null,
   "metadata": {},
   "outputs": [],
   "source": [
    "# Melt to a Long format\n",
    "#df_p=df_p.reset_index().melt(id_vars='Country')\n",
    "#df_p2=df_p.melt()"
   ]
  },
  {
   "cell_type": "code",
   "execution_count": null,
   "metadata": {},
   "outputs": [],
   "source": [
    "df_p.head()"
   ]
  },
  {
   "cell_type": "code",
   "execution_count": null,
   "metadata": {},
   "outputs": [],
   "source": [
    "df_p.a_econ[1]"
   ]
  },
  {
   "cell_type": "markdown",
   "metadata": {},
   "source": [
    "### 2.4 Do further necessary adjustments"
   ]
  },
  {
   "cell_type": "code",
   "execution_count": null,
   "metadata": {},
   "outputs": [],
   "source": [
    "# Show column types\n",
    "display(df_p.dtypes) "
   ]
  },
  {
   "cell_type": "code",
   "execution_count": null,
   "metadata": {},
   "outputs": [],
   "source": [
    "# Coerce column types when needed\n",
    "df_p.Years=df_p.Years.astype(int, copy=False)#avoiding a warning (carefull)\n",
    "df_p['a_eprod']=pd.to_numeric(df_p['a_eprod'],errors='coerce') # review, other notation, eg. df_p.to_num..., dont work\n",
    "df_p['a_econ']=pd.to_numeric(df_p['a_econ'],errors='coerce')\n",
    "df_p['a_inten']=pd.to_numeric(df_p['a_inten'],errors='coerce')\n",
    "df_p['a_sharo']=pd.to_numeric(df_p['a_sharo'],errors='coerce')\n",
    "df_p['a_shart']=pd.to_numeric(df_p['a_shart'],errors='coerce')"
   ]
  },
  {
   "cell_type": "code",
   "execution_count": null,
   "metadata": {},
   "outputs": [],
   "source": [
    "df_p.describe()"
   ]
  },
  {
   "cell_type": "markdown",
   "metadata": {},
   "source": [
    "### Extract corresponding metadata "
   ]
  },
  {
   "cell_type": "markdown",
   "metadata": {},
   "source": [
    "For this file in particular **5 plots** can be obtain. With their corresponding indicators"
   ]
  },
  {
   "cell_type": "code",
   "execution_count": null,
   "metadata": {},
   "outputs": [],
   "source": [
    "# call metadata of the indicator\n",
    "df_meta_temp = df_meta.set_index('KEY')\n",
    "# Select the indicator to plot\n",
    "Key_name = 'a_sharr'"
   ]
  },
  {
   "cell_type": "code",
   "execution_count": null,
   "metadata": {},
   "outputs": [],
   "source": [
    "df_meta_temp.index"
   ]
  },
  {
   "cell_type": "code",
   "execution_count": null,
   "metadata": {},
   "outputs": [],
   "source": [
    "Units_ind= df_meta_temp['UNIT'][Key_name]\n",
    "Origin_ind= df_meta_temp['SITE'][Key_name]\n",
    "Name_ind =  df_meta_temp['INDICATOR'][Key_name]\n",
    "#Key_ind =  df_meta_temp['KEY'][]\n",
    "Desc_ind =  df_meta_temp['DESCRIPTION'][Key_name]"
   ]
  },
  {
   "cell_type": "markdown",
   "metadata": {},
   "source": [
    "### Plot the indicator"
   ]
  },
  {
   "cell_type": "code",
   "execution_count": null,
   "metadata": {},
   "outputs": [],
   "source": [
    "# Here some features of the seaborn package or an eventual coupling \n",
    "# with R to use the GGPlot library is to be introduced\n",
    "# Use Guillermo's preferences for graph aesthetics\n",
    "sns.set_context('notebook')\n",
    "sns.set_style('darkgrid')\n",
    "sns.set(font_scale=1.5)"
   ]
  },
  {
   "cell_type": "code",
   "execution_count": null,
   "metadata": {},
   "outputs": [],
   "source": [
    "df_p.columns"
   ]
  },
  {
   "cell_type": "code",
   "execution_count": null,
   "metadata": {},
   "outputs": [],
   "source": [
    "df_p.head()"
   ]
  },
  {
   "cell_type": "code",
   "execution_count": null,
   "metadata": {},
   "outputs": [],
   "source": [
    "df_p[Key_name].sum()"
   ]
  },
  {
   "cell_type": "code",
   "execution_count": null,
   "metadata": {},
   "outputs": [],
   "source": [
    "# Simple Plot\n",
    "plt.figure()\n",
    "sns.pointplot(x='Years', y=Key_name, data=df_p, hue='Country')\n",
    "plt.ylabel(Units_ind)\n",
    "#plt.xlabel('Month')\n",
    "plt.legend(loc=1)"
   ]
  },
  {
   "cell_type": "code",
   "execution_count": null,
   "metadata": {
    "scrolled": true
   },
   "outputs": [],
   "source": [
    "# Sophisticated Plot\n",
    "\n",
    "# Set figure size (width, height) in inches \n",
    "fig, ax = plt.subplots(figsize = ( 15 , 6 )) \n",
    "  \n",
    "# Plot the scatterplot \n",
    "sns.pointplot(ax = ax , x='Years', y=Key_name, data=df_p, hue='Country')\n",
    "#sns.scatterplot( ax = ax , x='Year', y='value', data=df_graph) \n",
    "\n",
    "# Set Subtitle \n",
    "text_ind = '\\n'.join(('Taken from:', Origin_ind))#'\\n'.join((Desc_ind, \" \", Origin_ind))\n",
    "plt.text(x=0.2, y=0.8, s=text_ind, fontsize=15, transform=ax.transAxes,  bbox=dict(facecolor='wheat', alpha=0.4))\n",
    "\n",
    "# Set label for x-axis \n",
    "ax.set_xlabel( 'Years' , size = 12 ) \n",
    "  \n",
    "# Set label for y-axis \n",
    "ax.set_ylabel( Units_ind , size = 12 ) \n",
    "  \n",
    "# Set title for plot \n",
    "ax.set_title( Name_ind , size = 24 ) \n",
    "  \n",
    "# Display figure \n",
    "plt.show() \n",
    "\n",
    "# Save the figure\n",
    "plt.savefig(Key_name+'.jpg')"
   ]
  }
 ],
 "metadata": {
  "kernelspec": {
   "display_name": "Python 3",
   "language": "python",
   "name": "python3"
  },
  "language_info": {
   "codemirror_mode": {
    "name": "ipython",
    "version": 3
   },
   "file_extension": ".py",
   "mimetype": "text/x-python",
   "name": "python",
   "nbconvert_exporter": "python",
   "pygments_lexer": "ipython3",
   "version": "3.8.3"
  }
 },
 "nbformat": 4,
 "nbformat_minor": 4
}
