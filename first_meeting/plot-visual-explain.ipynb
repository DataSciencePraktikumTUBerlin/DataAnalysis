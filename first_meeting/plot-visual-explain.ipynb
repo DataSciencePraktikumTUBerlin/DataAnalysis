{
 "cells": [
  {
   "cell_type": "markdown",
   "metadata": {},
   "source": [
    "# Generate comparison Plots (*preview*)\n",
    "This third **pipeline** shows how to take the dataframes obtained from *Filter1*, or any sucesive *Filter* **pipeline** and create a plot showing multiple trends in a selected time."
   ]
  },
  {
   "cell_type": "markdown",
   "metadata": {},
   "source": [
    "## 1. Obtaining a *.csv* from the raw source (for every source where needed)\n",
    "This was done manually for the *.xlsx* files. The selected Spreadsheets were selected and saved as *.csv*. Original files are stored in the **raw_data** directory and resulting on the **source_data** directory. (csv UTF-8 format was selected)."
   ]
  },
  {
   "cell_type": "markdown",
   "metadata": {},
   "source": [
    "## 1. Generic plot for first (ref) indicator\n",
    "First a simple plot needs to be generated to check that the source file is compatible and provide a **reference** plot for more uqantities to be introduced"
   ]
  },
  {
   "cell_type": "markdown",
   "metadata": {},
   "source": [
    "\n",
    "### 1.1 Import required packages"
   ]
  },
  {
   "cell_type": "code",
   "execution_count": null,
   "metadata": {},
   "outputs": [],
   "source": [
    "import pandas as pd\n",
    "import numpy as np\n",
    "import seaborn as sns\n",
    "import matplotlib.pyplot as plt"
   ]
  },
  {
   "cell_type": "markdown",
   "metadata": {},
   "source": [
    "### 2.2 Set particular values"
   ]
  },
  {
   "cell_type": "code",
   "execution_count": null,
   "metadata": {},
   "outputs": [],
   "source": [
    "source_name = 'Finances\\project_financing_world.csv'\n",
    "# Select Column as Index\n",
    "index = ['Recipient Country/Area']\n",
    "# Assign selected indexes\n",
    "sel_index = ['USA', 'India', 'Germany',\"China\"]\n",
    "# Select years\n",
    "years=['Year']\n",
    "# Select other Columns as ID's\n",
    "other_ids = ['Amount (USD million)']"
   ]
  },
  {
   "cell_type": "markdown",
   "metadata": {},
   "source": [
    "### 2.3 Apply all the changes to obtain the desired resumed long dataframe"
   ]
  },
  {
   "cell_type": "code",
   "execution_count": null,
   "metadata": {},
   "outputs": [],
   "source": [
    "df = pd.read_csv('source_data\\\\' + source_name)\n",
    "\n",
    "df_p = df[index+years+other_ids]\n",
    "\n",
    "#df_p=pd.melt(df_p, id_vars=index+other_ids)\n",
    "\n",
    "df_p=df_p.set_index(index)\n",
    "\n",
    "df_p = df_p.loc[sel_index]"
   ]
  },
  {
   "cell_type": "markdown",
   "metadata": {},
   "source": [
    "*Here we return to the numerical index*"
   ]
  },
  {
   "cell_type": "code",
   "execution_count": null,
   "metadata": {},
   "outputs": [],
   "source": [
    "df_p = df_p.reset_index()"
   ]
  },
  {
   "cell_type": "markdown",
   "metadata": {},
   "source": [
    "*Here more readablle names for the columns afre defined*"
   ]
  },
  {
   "cell_type": "code",
   "execution_count": null,
   "metadata": {},
   "outputs": [],
   "source": [
    "df_p=df_p.rename(columns={'Amount (USD million)':'value'})"
   ]
  },
  {
   "cell_type": "code",
   "execution_count": null,
   "metadata": {},
   "outputs": [],
   "source": [
    "df_p=df_p.rename(columns={'Recipient Country/Area':'country'})"
   ]
  },
  {
   "cell_type": "code",
   "execution_count": null,
   "metadata": {},
   "outputs": [],
   "source": [
    "df_p.head()"
   ]
  },
  {
   "cell_type": "markdown",
   "metadata": {},
   "source": [
    "### 2.4 Do further necessary adjustments"
   ]
  },
  {
   "cell_type": "code",
   "execution_count": null,
   "metadata": {},
   "outputs": [],
   "source": [
    "#get numeric\n",
    "df_p.value=pd.to_numeric(df_p.value)\n",
    "#Instedad of 'to_numeric()', 'astype()' or '.apply()' could have been used"
   ]
  },
  {
   "cell_type": "code",
   "execution_count": null,
   "metadata": {},
   "outputs": [],
   "source": [
    "# Group by \n",
    "df_p=df_p.groupby(['country','Year']).sum()"
   ]
  },
  {
   "cell_type": "code",
   "execution_count": null,
   "metadata": {},
   "outputs": [],
   "source": [
    "df_p=df_p.reset_index()"
   ]
  },
  {
   "cell_type": "markdown",
   "metadata": {},
   "source": [
    "## 3. Plot the desired indicators\n",
    "Here we supposed that **df_p** is handed in in *long format*"
   ]
  },
  {
   "cell_type": "code",
   "execution_count": null,
   "metadata": {},
   "outputs": [],
   "source": [
    "#not needed"
   ]
  },
  {
   "cell_type": "markdown",
   "metadata": {},
   "source": [
    "### 3.1 Create a DF_Subset to plot\n",
    "Here an internal understanding of the source data is required to know which Raws to select, according to the desired *id's*"
   ]
  },
  {
   "cell_type": "markdown",
   "metadata": {},
   "source": [
    "**First we identify which columns (ids) are there to select from**\n",
    "For all cases 'year' and 'value' needs to be available for pllotting afterwards"
   ]
  },
  {
   "cell_type": "code",
   "execution_count": null,
   "metadata": {},
   "outputs": [],
   "source": [
    "df_p.columns"
   ]
  },
  {
   "cell_type": "markdown",
   "metadata": {},
   "source": [
    "In this case we can further select from 'Product' and 'Flow'. In the most simple case, no extra coumns will be available (e.g. **other_ids = []**)"
   ]
  },
  {
   "cell_type": "markdown",
   "metadata": {},
   "source": [
    "**Now we look into the unique options in the available extra ids to select our interest**"
   ]
  },
  {
   "cell_type": "code",
   "execution_count": null,
   "metadata": {},
   "outputs": [],
   "source": [
    "df_p.Year.unique()"
   ]
  },
  {
   "cell_type": "code",
   "execution_count": null,
   "metadata": {},
   "outputs": [],
   "source": [
    "df_p.country.unique()"
   ]
  },
  {
   "cell_type": "markdown",
   "metadata": {},
   "source": [
    "**A selection is possible from the give options of each id**\n",
    "Note that not *all* the options of one id correspond with all the options of the other one"
   ]
  },
  {
   "cell_type": "code",
   "execution_count": null,
   "metadata": {},
   "outputs": [],
   "source": [
    "# Here a Loop may be applicable, defining the following characteristics as lists instead \n",
    "# of strings and then enabling multiple plot generation\n",
    "select_country='Germany'\n",
    "select_id = ['USD million']\n",
    "select_option = ['Project Capital Flow']"
   ]
  },
  {
   "cell_type": "code",
   "execution_count": null,
   "metadata": {},
   "outputs": [],
   "source": [
    "df_graph = df_p[df_p.country==select_country]"
   ]
  },
  {
   "cell_type": "code",
   "execution_count": null,
   "metadata": {},
   "outputs": [],
   "source": [
    "#for i in range(0,len(select_id)-1):\n",
    "#    df_graph=df_graph[df_graph[select_id[i]]==select_option[i]]  \n",
    "df_graph.head()"
   ]
  },
  {
   "cell_type": "markdown",
   "metadata": {},
   "source": [
    "### 3.2 Set other characteristics of the plot"
   ]
  },
  {
   "cell_type": "code",
   "execution_count": null,
   "metadata": {},
   "outputs": [],
   "source": [
    "# Here some features of the seaborn package or an eventual coupling \n",
    "# with R to use the GGPlot library is to be introduced"
   ]
  },
  {
   "cell_type": "markdown",
   "metadata": {},
   "source": [
    "### 3.3 Create the Plot"
   ]
  },
  {
   "cell_type": "code",
   "execution_count": null,
   "metadata": {},
   "outputs": [],
   "source": [
    "# Set figure size (width, height) in inches \n",
    "fig, ax = plt.subplots(figsize = ( 12 , 5 )) \n",
    "  \n",
    "# Plot the scatterplot \n",
    "sns.scatterplot( ax = ax , x='Year', y='value', data=df_graph) \n",
    "  \n",
    "# Set label for x-axis \n",
    "ax.set_xlabel( 'Years' , size = 12 ) \n",
    "  \n",
    "# Set label for y-axis \n",
    "ax.set_ylabel( select_id[len(select_id)-1] , size = 12 ) \n",
    "  \n",
    "# Set title for plot \n",
    "ax.set_title( select_option[0]+' in '+select_country , size = 24 ) \n",
    "\n",
    "# Save the figure\n",
    "plt.savefig(select_option[0]+'_'+select_country+'.png')\n",
    "\n",
    "# Display figure \n",
    "plt.show() \n"
   ]
  }
 ],
 "metadata": {
  "kernelspec": {
   "display_name": "Python 3",
   "language": "python",
   "name": "python3"
  },
  "language_info": {
   "codemirror_mode": {
    "name": "ipython",
    "version": 3
   },
   "file_extension": ".py",
   "mimetype": "text/x-python",
   "name": "python",
   "nbconvert_exporter": "python",
   "pygments_lexer": "ipython3",
   "version": "3.8.3"
  }
 },
 "nbformat": 4,
 "nbformat_minor": 4
}
