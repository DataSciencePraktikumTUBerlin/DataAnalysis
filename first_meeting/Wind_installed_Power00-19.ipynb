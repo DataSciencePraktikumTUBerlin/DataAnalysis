{
 "cells": [
  {
   "cell_type": "code",
   "execution_count": 1,
   "metadata": {},
   "outputs": [],
   "source": [
    "import pandas as pd\n",
    "import numpy as np\n",
    "import matplotlib as plt\n",
    "import seaborn as sns"
   ]
  },
  {
   "cell_type": "markdown",
   "metadata": {},
   "source": [
    "load data"
   ]
  },
  {
   "cell_type": "code",
   "execution_count": 2,
   "metadata": {},
   "outputs": [],
   "source": [
    "source_name = 'qu_wind_Power00-19.csv'\n",
    "df = pd.read_csv('source_data/Energy/' + source_name, index_col=0)\n",
    "df.set_index(\"Land\", inplace = True)"
   ]
  },
  {
   "cell_type": "markdown",
   "metadata": {},
   "source": [
    "build plots for the countries we research"
   ]
  },
  {
   "cell_type": "code",
   "execution_count": 3,
   "metadata": {},
   "outputs": [
    {
     "data": {
      "text/plain": [
       "'C:\\\\Users\\\\Roberto\\\\Documents\\\\letzten_Vorlesungen\\\\Prog_R-Python_DataScience\\\\data_analysis\\\\DataAnalysis_Repo\\\\first_meeting'"
      ]
     },
     "execution_count": 3,
     "metadata": {},
     "output_type": "execute_result"
    }
   ],
   "source": [
    "pwd"
   ]
  },
  {
   "cell_type": "code",
   "execution_count": 6,
   "metadata": {},
   "outputs": [
    {
     "data": {
      "text/html": [
       "<div>\n",
       "<style scoped>\n",
       "    .dataframe tbody tr th:only-of-type {\n",
       "        vertical-align: middle;\n",
       "    }\n",
       "\n",
       "    .dataframe tbody tr th {\n",
       "        vertical-align: top;\n",
       "    }\n",
       "\n",
       "    .dataframe thead th {\n",
       "        text-align: right;\n",
       "    }\n",
       "</style>\n",
       "<table border=\"1\" class=\"dataframe\">\n",
       "  <thead>\n",
       "    <tr style=\"text-align: right;\">\n",
       "      <th></th>\n",
       "      <th>2000</th>\n",
       "      <th>2001</th>\n",
       "      <th>2002</th>\n",
       "      <th>2003</th>\n",
       "      <th>2004</th>\n",
       "      <th>2005</th>\n",
       "      <th>2006</th>\n",
       "      <th>2007</th>\n",
       "      <th>2008</th>\n",
       "      <th>2009</th>\n",
       "      <th>2010</th>\n",
       "      <th>2011</th>\n",
       "      <th>2012</th>\n",
       "      <th>2013</th>\n",
       "      <th>2014</th>\n",
       "      <th>2015</th>\n",
       "      <th>2016</th>\n",
       "      <th>2017</th>\n",
       "      <th>2018</th>\n",
       "      <th>2019</th>\n",
       "    </tr>\n",
       "    <tr>\n",
       "      <th>Land</th>\n",
       "      <th></th>\n",
       "      <th></th>\n",
       "      <th></th>\n",
       "      <th></th>\n",
       "      <th></th>\n",
       "      <th></th>\n",
       "      <th></th>\n",
       "      <th></th>\n",
       "      <th></th>\n",
       "      <th></th>\n",
       "      <th></th>\n",
       "      <th></th>\n",
       "      <th></th>\n",
       "      <th></th>\n",
       "      <th></th>\n",
       "      <th></th>\n",
       "      <th></th>\n",
       "      <th></th>\n",
       "      <th></th>\n",
       "      <th></th>\n",
       "    </tr>\n",
       "  </thead>\n",
       "  <tbody>\n",
       "    <tr>\n",
       "      <th>Deutschland</th>\n",
       "      <td>6.113</td>\n",
       "      <td>8.734</td>\n",
       "      <td>12.001</td>\n",
       "      <td>14.609</td>\n",
       "      <td>16.629</td>\n",
       "      <td>18.428</td>\n",
       "      <td>20.622</td>\n",
       "      <td>22.247</td>\n",
       "      <td>23.902</td>\n",
       "      <td>25.777</td>\n",
       "      <td>27.214</td>\n",
       "      <td>29.060</td>\n",
       "      <td>31.270</td>\n",
       "      <td>34.250</td>\n",
       "      <td>39.165</td>\n",
       "      <td>44.941</td>\n",
       "      <td>50.018</td>\n",
       "      <td>56.164</td>\n",
       "      <td>59.31</td>\n",
       "      <td>61.40</td>\n",
       "    </tr>\n",
       "    <tr>\n",
       "      <th>Spanien</th>\n",
       "      <td>2.836</td>\n",
       "      <td>3.550</td>\n",
       "      <td>5.043</td>\n",
       "      <td>6.202</td>\n",
       "      <td>8.263</td>\n",
       "      <td>10.027</td>\n",
       "      <td>11.615</td>\n",
       "      <td>15.831</td>\n",
       "      <td>16.754</td>\n",
       "      <td>19.149</td>\n",
       "      <td>20.676</td>\n",
       "      <td>21.674</td>\n",
       "      <td>22.784</td>\n",
       "      <td>22.959</td>\n",
       "      <td>22.987</td>\n",
       "      <td>23.025</td>\n",
       "      <td>23.047</td>\n",
       "      <td>23.026</td>\n",
       "      <td>0.00</td>\n",
       "      <td>0.00</td>\n",
       "    </tr>\n",
       "    <tr>\n",
       "      <th>USA</th>\n",
       "      <td>2.610</td>\n",
       "      <td>4.245</td>\n",
       "      <td>4.674</td>\n",
       "      <td>6.374</td>\n",
       "      <td>6.725</td>\n",
       "      <td>9.149</td>\n",
       "      <td>11.603</td>\n",
       "      <td>16.664</td>\n",
       "      <td>25.170</td>\n",
       "      <td>35.068</td>\n",
       "      <td>40.180</td>\n",
       "      <td>46.919</td>\n",
       "      <td>60.007</td>\n",
       "      <td>61.110</td>\n",
       "      <td>65.879</td>\n",
       "      <td>73.991</td>\n",
       "      <td>82.184</td>\n",
       "      <td>88.927</td>\n",
       "      <td>96.52</td>\n",
       "      <td>105.57</td>\n",
       "    </tr>\n",
       "    <tr>\n",
       "      <th>Dänemark</th>\n",
       "      <td>2.341</td>\n",
       "      <td>2.456</td>\n",
       "      <td>2.880</td>\n",
       "      <td>3.110</td>\n",
       "      <td>3.117</td>\n",
       "      <td>3.122</td>\n",
       "      <td>3.136</td>\n",
       "      <td>3.125</td>\n",
       "      <td>3.163</td>\n",
       "      <td>3.465</td>\n",
       "      <td>3.572</td>\n",
       "      <td>3.871</td>\n",
       "      <td>4.162</td>\n",
       "      <td>4.807</td>\n",
       "      <td>4.845</td>\n",
       "      <td>5.064</td>\n",
       "      <td>5.228</td>\n",
       "      <td>5.320</td>\n",
       "      <td>0.00</td>\n",
       "      <td>0.00</td>\n",
       "    </tr>\n",
       "    <tr>\n",
       "      <th>Indien</th>\n",
       "      <td>1.220</td>\n",
       "      <td>1.456</td>\n",
       "      <td>1.702</td>\n",
       "      <td>2.110</td>\n",
       "      <td>3.000</td>\n",
       "      <td>4.430</td>\n",
       "      <td>6.270</td>\n",
       "      <td>7.845</td>\n",
       "      <td>9.655</td>\n",
       "      <td>10.926</td>\n",
       "      <td>13.065</td>\n",
       "      <td>16.084</td>\n",
       "      <td>18.421</td>\n",
       "      <td>20.150</td>\n",
       "      <td>22.465</td>\n",
       "      <td>25.088</td>\n",
       "      <td>28.700</td>\n",
       "      <td>32.879</td>\n",
       "      <td>35.13</td>\n",
       "      <td>37.51</td>\n",
       "    </tr>\n",
       "  </tbody>\n",
       "</table>\n",
       "</div>"
      ],
      "text/plain": [
       "              2000   2001    2002    2003    2004    2005    2006    2007  \\\n",
       "Land                                                                        \n",
       "Deutschland  6.113  8.734  12.001  14.609  16.629  18.428  20.622  22.247   \n",
       "Spanien      2.836  3.550   5.043   6.202   8.263  10.027  11.615  15.831   \n",
       "USA          2.610  4.245   4.674   6.374   6.725   9.149  11.603  16.664   \n",
       "Dänemark     2.341  2.456   2.880   3.110   3.117   3.122   3.136   3.125   \n",
       "Indien       1.220  1.456   1.702   2.110   3.000   4.430   6.270   7.845   \n",
       "\n",
       "               2008    2009    2010    2011    2012    2013    2014    2015  \\\n",
       "Land                                                                          \n",
       "Deutschland  23.902  25.777  27.214  29.060  31.270  34.250  39.165  44.941   \n",
       "Spanien      16.754  19.149  20.676  21.674  22.784  22.959  22.987  23.025   \n",
       "USA          25.170  35.068  40.180  46.919  60.007  61.110  65.879  73.991   \n",
       "Dänemark      3.163   3.465   3.572   3.871   4.162   4.807   4.845   5.064   \n",
       "Indien        9.655  10.926  13.065  16.084  18.421  20.150  22.465  25.088   \n",
       "\n",
       "               2016    2017   2018    2019  \n",
       "Land                                        \n",
       "Deutschland  50.018  56.164  59.31   61.40  \n",
       "Spanien      23.047  23.026   0.00    0.00  \n",
       "USA          82.184  88.927  96.52  105.57  \n",
       "Dänemark      5.228   5.320   0.00    0.00  \n",
       "Indien       28.700  32.879  35.13   37.51  "
      ]
     },
     "execution_count": 6,
     "metadata": {},
     "output_type": "execute_result"
    }
   ],
   "source": [
    "df.head()"
   ]
  },
  {
   "cell_type": "code",
   "execution_count": 7,
   "metadata": {},
   "outputs": [
    {
     "data": {
      "image/png": "[encoded data removed]",
      "text/plain": [
       "<Figure size 1008x432 with 1 Axes>"
      ]
     },
     "metadata": {
      "needs_background": "light"
     },
     "output_type": "display_data"
    }
   ],
   "source": [
    "years = ['2000','2001','2002','2003','2004','2005','2006','2007','2008','2009','2010','2011','2012','2013','2014','2015','2016','2017','2018','2019']\n",
    "countries = ['Deutschland', 'USA', 'China', 'Indien']\n",
    "\n",
    "# Set figsize, grid and loop over our countries\n",
    "fig, ax = plt.pyplot.subplots(1,1, figsize=(14,6))\n",
    "ax.grid(color='lightgrey')\n",
    "for country in countries:\n",
    "    y = df.loc[country]\n",
    "    ax.plot(years, y)\n",
    "\n",
    "# Set labels and legend\n",
    "ax.set_title('installed Eolic Power in GER, USA, CHINA, INDIA', size = 20)\n",
    "ax.legend(countries)\n",
    "ax.xaxis.set_label_text('Years', size = 16)\n",
    "ax.yaxis.set_label_text('GigaWatts', size = 16)\n",
    "\n",
    "# Save the figure. must be saved before .show()\n",
    "plt.pyplot.savefig('installed_wind_Power.png')\n",
    "\n",
    "# Show figure\n",
    "plt.pyplot.show()"
   ]
  },
  {
   "cell_type": "code",
   "execution_count": null,
   "metadata": {},
   "outputs": [],
   "source": []
  },
  {
   "cell_type": "code",
   "execution_count": null,
   "metadata": {},
   "outputs": [],
   "source": []
  }
 ],
 "metadata": {
  "kernelspec": {
   "display_name": "Python 3",
   "language": "python",
   "name": "python3"
  },
  "language_info": {
   "codemirror_mode": {
    "name": "ipython",
    "version": 3
   },
   "file_extension": ".py",
   "mimetype": "text/x-python",
   "name": "python",
   "nbconvert_exporter": "python",
   "pygments_lexer": "ipython3",
   "version": "3.8.3"
  }
 },
 "nbformat": 4,
 "nbformat_minor": 2
}
