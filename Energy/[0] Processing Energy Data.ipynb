{
 "cells": [
  {
   "cell_type": "code",
   "execution_count": 1,
   "metadata": {},
   "outputs": [],
   "source": [
    "import os\n",
    "\n",
    "import numpy as np\n",
    "import pandas as pd"
   ]
  },
  {
   "cell_type": "code",
   "execution_count": 2,
   "metadata": {},
   "outputs": [
    {
     "data": {
      "text/plain": [
       "{'bloom', 'bp', 'edata', 'qu', 'wbank', 'web'}"
      ]
     },
     "execution_count": 2,
     "metadata": {},
     "output_type": "execute_result"
    }
   ],
   "source": [
    "folder = './Data'\n",
    "\n",
    "files = os.listdir(folder)\n",
    "\n",
    "# extract keys with which each file starts\n",
    "# one key == one dataformat\n",
    "df_keys = map(lambda f: f.split('_')[0], files)\n",
    "df_keys = list(df_keys)\n",
    "df_keys = set(df_keys)\n",
    "\n",
    "df_keys"
   ]
  },
  {
   "cell_type": "code",
   "execution_count": 3,
   "metadata": {},
   "outputs": [],
   "source": [
    "def process_bloom_df(df):\n",
    "    countries = ['China', 'Germany', 'India', 'U.S.']\n",
    "    \n",
    "    df = df.drop('quarter', axis=1)\n",
    "    df = df[df['country'].isin(countries)]\n",
    "    df = df.groupby(['year', 'country']).sum()\n",
    "    df = df.reset_index(level=[0,1])\n",
    "    df = df.replace('U.S.', 'United States')\n",
    "    df = df.sort_values(by=['year', 'country'])\n",
    "    df = df.rename({'year': 'Year', 'country': 'Country', 'value': 'Asset investment in renewables (Billions USD)'}, axis=1)\n",
    "    df = df.reset_index(drop=True)\n",
    "    \n",
    "    return df"
   ]
  },
  {
   "cell_type": "code",
   "execution_count": 4,
   "metadata": {},
   "outputs": [],
   "source": [
    "def process_bp_edata_qu_df(df, indicator, unit, years, countries, countries_new):\n",
    "    value_name = f'{indicator} ({unit})'\n",
    "    years = years.astype(str)\n",
    "\n",
    "    df = df[df['Country'].isin(countries)]\n",
    "    df = df.reset_index(drop=True)\n",
    "    df = pd.melt(df, id_vars=['Country'], value_vars=years, \n",
    "                     var_name='Year', value_name=value_name)\n",
    "    df = df.replace(countries, countries_new)\n",
    "    df = df.sort_values(by=['Country', 'Year'])\n",
    "    df = df.reset_index(drop=True)\n",
    "    \n",
    "    return df"
   ]
  },
  {
   "cell_type": "code",
   "execution_count": 5,
   "metadata": {
    "scrolled": true
   },
   "outputs": [],
   "source": [
    "def process_wbank_df(df):\n",
    "    countries = ['China', 'Germany', 'India', 'United States']\n",
    "    \n",
    "    df = df[df['Country Name'].isin(countries)]\n",
    "    df = df.drop(['Country Code', 'Time Code'], axis=1)\n",
    "    df = df.rename({'Country Name': 'Country', 'Time': 'Year'}, axis=1)\n",
    "\n",
    "    def rename_column(column):\n",
    "        try:\n",
    "            column_renamed = column.split('[')[0]\n",
    "\n",
    "            return column_renamed\n",
    "        except:\n",
    "            return column\n",
    "\n",
    "    df = df.rename(rename_column, axis=1)\n",
    "    df['Year'] = df['Year'].astype('int').astype('str')\n",
    "    df = df.sort_values(by=['Country', 'Year'])\n",
    "    \n",
    "    return df"
   ]
  },
  {
   "cell_type": "code",
   "execution_count": 6,
   "metadata": {},
   "outputs": [],
   "source": [
    "target_folder = './Data Formated'\n",
    "\n",
    "get_df_files_by_key = lambda key: list(filter(lambda file: key in file, files))\n",
    "is_xlsx = lambda file: '.xlsx' in file\n",
    "\n",
    "metadata = pd.read_csv('./metadata.csv', index_col = 0)\n",
    "\n",
    "for df_key in df_keys:\n",
    "    for file in get_df_files_by_key(df_key):\n",
    "        if is_xlsx(file):\n",
    "            continue\n",
    "        \n",
    "        if df_key == 'web':\n",
    "            continue\n",
    "            \n",
    "        df = pd.read_csv(f'{folder}/{file}')\n",
    "        \n",
    "        if df_key == 'bloom':\n",
    "            df = process_bloom_df(df)\n",
    "            \n",
    "        elif df_key == 'bp' or df_key == 'edata' or df_key == 'qu':\n",
    "            file_metadata = metadata[metadata['source file'] == file.split('.')[0].strip()]\n",
    "\n",
    "            indicator = file_metadata['indicator'].values[0]\n",
    "            unit = file_metadata['unit'].values[0]\n",
    "            \n",
    "            countries_new = ['China', 'Germany', 'India', 'United States']\n",
    "            if df_key == 'bp':\n",
    "                countries = ['China', 'Germany', 'India', 'US']\n",
    "                years = np.arange(2000, 2020)\n",
    "                \n",
    "            elif df_key == 'edata':\n",
    "                countries = ['China', 'Germany', 'India', 'United States']\n",
    "                years = np.arange(2000, 2018)\n",
    "                \n",
    "            elif df_key == 'qu':\n",
    "                df = df.rename({'Land': 'Country'}, axis=1)\n",
    "                \n",
    "                countries = ['China', 'Deutschland', 'Indien', 'USA']\n",
    "                years = np.arange(2000, 2020)\n",
    "                \n",
    "            df = process_bp_edata_qu_df(df, indicator, unit, years, countries, countries_new)\n",
    "            \n",
    "        elif df_key == 'wbank':\n",
    "            df = process_wbank_df(df)\n",
    "        \n",
    "        df.to_csv(f'{target_folder}/{file}')"
   ]
  }
 ],
 "metadata": {
  "kernelspec": {
   "display_name": "Python 3",
   "language": "python",
   "name": "python3"
  },
  "language_info": {
   "codemirror_mode": {
    "name": "ipython",
    "version": 3
   },
   "file_extension": ".py",
   "mimetype": "text/x-python",
   "name": "python",
   "nbconvert_exporter": "python",
   "pygments_lexer": "ipython3",
   "version": "3.8.5"
  }
 },
 "nbformat": 4,
 "nbformat_minor": 4
}
