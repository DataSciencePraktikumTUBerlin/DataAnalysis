{
 "cells": [
  {
   "cell_type": "markdown",
   "metadata": {},
   "source": [
    "## This Notebook...\n",
    "generates a timeseries plot for every indicator in the energy dataframe"
   ]
  },
  {
   "cell_type": "code",
   "execution_count": 1,
   "metadata": {},
   "outputs": [
    {
     "data": {
      "text/plain": [
       "\"\\nTO NOTICE:\\n    sns.set_theme(style='darkgrid')\\n    https://github.com/mwaskom/seaborn/issues/2301\\n\""
      ]
     },
     "execution_count": 1,
     "metadata": {},
     "output_type": "execute_result"
    }
   ],
   "source": [
    "import os\n",
    "import pandas as pd\n",
    "import numpy as np\n",
    "import matplotlib.pyplot as plt\n",
    "import seaborn as sns\n",
    "\n",
    "sns.set(style='darkgrid')\n",
    "\"\"\"\n",
    "TO NOTICE:\n",
    "    sns.set_theme(style='darkgrid')\n",
    "    https://github.com/mwaskom/seaborn/issues/2301\n",
    "\"\"\""
   ]
  },
  {
   "cell_type": "code",
   "execution_count": 2,
   "metadata": {
    "scrolled": true
   },
   "outputs": [],
   "source": [
    "# Read the data\n",
    "df2 = pd.read_csv('./finance_DF.csv', index_col=0)\n",
    "df = pd.read_csv('./energy_DF.csv', index_col=0)\n",
    "df_meta = pd.read_csv('./Indicators_metadata.csv', index_col='INDICATOR')\n",
    "# Adjust time range\n",
    "years = np.arange(2004, 2016)\n",
    "df = df.set_index('Year').loc[years].reset_index()"
   ]
  },
  {
   "cell_type": "code",
   "execution_count": null,
   "metadata": {},
   "outputs": [],
   "source": [
    "for i in df2.columns:\n",
    "    print(f\"{i in df_meta.index} -> {i}\")\n",
    "print(df_meta.index)"
   ]
  },
  {
   "cell_type": "code",
   "execution_count": 3,
   "metadata": {},
   "outputs": [],
   "source": [
    "with sns.plotting_context(\"notebook\"):\n",
    "    # adjust DF\n",
    "    df_graph = df\n",
    "    for column in df_graph.columns:\n",
    "        if column in ['Country', 'Year']:\n",
    "            continue\n",
    "        \n",
    "        if column in df_meta.index:\n",
    "            y_label = df_meta['UNIT'][column]\n",
    "        else: y_label= ' '\n",
    "        \n",
    "        g = df_graph[['Country', 'Year', column]]  \n",
    "        line,tm = plt.subplots(figsize=(10,6))\n",
    "        \n",
    "        tm = sns.lineplot(data=g, x='Year', y=column, hue='Country')\n",
    "        tm.set_title(column, fontsize=15)\n",
    "        tm.set_ylabel (y_label)\n",
    "        # Save the figure        \n",
    "        plt.savefig(f\"energy_time_series/{column.replace(' ','_').replace('.','').replace('/','').replace(':','_')}.jpg\")#_Agg.jpg\")\n",
    "        plt.close()\n",
    "        \n",
    "    df_graph = df2\n",
    "    for column in df_graph.columns:\n",
    "        if column in ['Country', 'Year']:\n",
    "            continue\n",
    "        \n",
    "        if column in df_meta.index:\n",
    "            y_label = df_meta['UNIT'][column]\n",
    "        else: y_label= ' '\n",
    "        \n",
    "        g = df_graph[['Country', 'Year', column]]  \n",
    "        line,tm = plt.subplots(figsize=(10,6))\n",
    "        \n",
    "        tm = sns.lineplot(data=g, x='Year', y=column, hue='Country')\n",
    "        tm.set_title(column, fontsize=15)\n",
    "        tm.set_ylabel (y_label)\n",
    "        # Save the figure\n",
    "        plt.savefig(f\"finance_time_series/{column.replace(' ','_').replace('.','').replace('/','').replace(':','_')}.jpg\")#_Agg.jpg\")   \n",
    "        plt.close()\n"
   ]
  },
  {
   "cell_type": "markdown",
   "metadata": {},
   "source": [
    "### Generate a local correlogram if wanted"
   ]
  },
  {
   "cell_type": "code",
   "execution_count": null,
   "metadata": {},
   "outputs": [],
   "source": [
    "plt.figure(figsize=(12, 12))\n",
    "\n",
    "corr = np.round(df.drop('Year', axis=1).corr(), 2)\n",
    "mask = np.triu(np.ones_like(corr, dtype=bool))\n",
    "\n",
    "h = sns.heatmap(corr, mask=mask, vmin=-1, vmax=1, annot=True, cmap='BrBG')\n",
    "h.set_xticklabels(h.get_xticklabels(), rotation=45, ha='right')"
   ]
  }
 ],
 "metadata": {
  "kernelspec": {
   "display_name": "Python 3",
   "language": "python",
   "name": "python3"
  },
  "language_info": {
   "codemirror_mode": {
    "name": "ipython",
    "version": 3
   },
   "file_extension": ".py",
   "mimetype": "text/x-python",
   "name": "python",
   "nbconvert_exporter": "python",
   "pygments_lexer": "ipython3",
   "version": "3.8.3"
  }
 },
 "nbformat": 4,
 "nbformat_minor": 4
}
