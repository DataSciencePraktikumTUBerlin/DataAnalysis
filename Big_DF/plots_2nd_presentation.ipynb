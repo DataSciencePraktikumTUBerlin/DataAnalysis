{
 "cells": [
  {
   "cell_type": "code",
   "execution_count": 2,
   "metadata": {},
   "outputs": [],
   "source": [
    "import pandas as pd\n",
    "import numpy as np\n",
    "import matplotlib as plt\n",
    "import seaborn as sns"
   ]
  },
  {
   "cell_type": "markdown",
   "metadata": {},
   "source": [
    "load data"
   ]
  },
  {
   "cell_type": "code",
   "execution_count": 3,
   "metadata": {},
   "outputs": [],
   "source": [
    "# source_name = 'qu_solar_PV_Power00-19.csv'\n",
    "d1 = pd.read_csv('result_df/preva_econ.csv', index_col=0)  # Total final energy consumption (TFEC) (TJ)\n",
    "d2 = pd.read_csv('result_df/preva_eprod.csv', index_col=0) # Total electricity output (GWh)\n",
    "df = pd.merge(d1, d2)"
   ]
  },
  {
   "cell_type": "code",
   "execution_count": 4,
   "metadata": {},
   "outputs": [
    {
     "data": {
      "text/html": [
       "<div>\n",
       "<style scoped>\n",
       "    .dataframe tbody tr th:only-of-type {\n",
       "        vertical-align: middle;\n",
       "    }\n",
       "\n",
       "    .dataframe tbody tr th {\n",
       "        vertical-align: top;\n",
       "    }\n",
       "\n",
       "    .dataframe thead th {\n",
       "        text-align: right;\n",
       "    }\n",
       "</style>\n",
       "<table border=\"1\" class=\"dataframe\">\n",
       "  <thead>\n",
       "    <tr style=\"text-align: right;\">\n",
       "      <th></th>\n",
       "      <th>Country</th>\n",
       "      <th>Years</th>\n",
       "      <th>Total final energy consumption (TFEC) (TJ) [1.1_TOTAL.FINAL.ENERGY.CONSUM]</th>\n",
       "      <th>Total electricity output (GWh) [4.1.1_TOTAL.ELECTRICITY.OUTPUT]</th>\n",
       "    </tr>\n",
       "  </thead>\n",
       "  <tbody>\n",
       "    <tr>\n",
       "      <th>0</th>\n",
       "      <td>China</td>\n",
       "      <td>2000</td>\n",
       "      <td>30187188.73</td>\n",
       "      <td>1355738</td>\n",
       "    </tr>\n",
       "    <tr>\n",
       "      <th>1</th>\n",
       "      <td>China</td>\n",
       "      <td>2001</td>\n",
       "      <td>30940867.04</td>\n",
       "      <td>1480949</td>\n",
       "    </tr>\n",
       "    <tr>\n",
       "      <th>2</th>\n",
       "      <td>China</td>\n",
       "      <td>2002</td>\n",
       "      <td>32272543.97</td>\n",
       "      <td>1654164</td>\n",
       "    </tr>\n",
       "    <tr>\n",
       "      <th>3</th>\n",
       "      <td>China</td>\n",
       "      <td>2003</td>\n",
       "      <td>35505254.39</td>\n",
       "      <td>1910755</td>\n",
       "    </tr>\n",
       "    <tr>\n",
       "      <th>4</th>\n",
       "      <td>China</td>\n",
       "      <td>2004</td>\n",
       "      <td>41469975.08</td>\n",
       "      <td>2203502</td>\n",
       "    </tr>\n",
       "    <tr>\n",
       "      <th>...</th>\n",
       "      <td>...</td>\n",
       "      <td>...</td>\n",
       "      <td>...</td>\n",
       "      <td>...</td>\n",
       "    </tr>\n",
       "    <tr>\n",
       "      <th>59</th>\n",
       "      <td>United States</td>\n",
       "      <td>2011</td>\n",
       "      <td>57123701.65</td>\n",
       "      <td>4326635</td>\n",
       "    </tr>\n",
       "    <tr>\n",
       "      <th>60</th>\n",
       "      <td>United States</td>\n",
       "      <td>2012</td>\n",
       "      <td>56628804.85</td>\n",
       "      <td>4270884</td>\n",
       "    </tr>\n",
       "    <tr>\n",
       "      <th>61</th>\n",
       "      <td>United States</td>\n",
       "      <td>2013</td>\n",
       "      <td>57984073.56</td>\n",
       "      <td>4287114</td>\n",
       "    </tr>\n",
       "    <tr>\n",
       "      <th>62</th>\n",
       "      <td>United States</td>\n",
       "      <td>2014</td>\n",
       "      <td>59116385.16</td>\n",
       "      <td>4319156</td>\n",
       "    </tr>\n",
       "    <tr>\n",
       "      <th>63</th>\n",
       "      <td>United States</td>\n",
       "      <td>2015</td>\n",
       "      <td>58483061.91</td>\n",
       "      <td>4297048</td>\n",
       "    </tr>\n",
       "  </tbody>\n",
       "</table>\n",
       "<p>64 rows × 4 columns</p>\n",
       "</div>"
      ],
      "text/plain": [
       "          Country  Years  \\\n",
       "0           China   2000   \n",
       "1           China   2001   \n",
       "2           China   2002   \n",
       "3           China   2003   \n",
       "4           China   2004   \n",
       "..            ...    ...   \n",
       "59  United States   2011   \n",
       "60  United States   2012   \n",
       "61  United States   2013   \n",
       "62  United States   2014   \n",
       "63  United States   2015   \n",
       "\n",
       "    Total final energy consumption (TFEC) (TJ) [1.1_TOTAL.FINAL.ENERGY.CONSUM]  \\\n",
       "0                                         30187188.73                            \n",
       "1                                         30940867.04                            \n",
       "2                                         32272543.97                            \n",
       "3                                         35505254.39                            \n",
       "4                                         41469975.08                            \n",
       "..                                                ...                            \n",
       "59                                        57123701.65                            \n",
       "60                                        56628804.85                            \n",
       "61                                        57984073.56                            \n",
       "62                                        59116385.16                            \n",
       "63                                        58483061.91                            \n",
       "\n",
       "    Total electricity output (GWh) [4.1.1_TOTAL.ELECTRICITY.OUTPUT]  \n",
       "0                                             1355738                \n",
       "1                                             1480949                \n",
       "2                                             1654164                \n",
       "3                                             1910755                \n",
       "4                                             2203502                \n",
       "..                                                ...                \n",
       "59                                            4326635                \n",
       "60                                            4270884                \n",
       "61                                            4287114                \n",
       "62                                            4319156                \n",
       "63                                            4297048                \n",
       "\n",
       "[64 rows x 4 columns]"
      ]
     },
     "execution_count": 4,
     "metadata": {},
     "output_type": "execute_result"
    }
   ],
   "source": [
    "df"
   ]
  },
  {
   "cell_type": "code",
   "execution_count": 6,
   "metadata": {},
   "outputs": [
    {
     "data": {
      "text/plain": [
       "array([2000, 2001, 2002, 2003, 2004, 2005, 2006, 2007, 2008, 2009, 2010,\n",
       "       2011, 2012, 2013, 2014, 2015])"
      ]
     },
     "execution_count": 6,
     "metadata": {},
     "output_type": "execute_result"
    }
   ],
   "source": [
    "df['Years'].unique()"
   ]
  },
  {
   "cell_type": "code",
   "execution_count": 7,
   "metadata": {},
   "outputs": [
    {
     "data": {
      "text/plain": [
       "array(['China', 'Germany', 'India', 'United States'], dtype=object)"
      ]
     },
     "execution_count": 7,
     "metadata": {},
     "output_type": "execute_result"
    }
   ],
   "source": [
    "df['Country'].unique()"
   ]
  },
  {
   "cell_type": "code",
   "execution_count": 17,
   "metadata": {},
   "outputs": [],
   "source": [
    "df=df.rename(columns={'Total final energy consumption (TFEC) (TJ) [1.1_TOTAL.FINAL.ENERGY.CONSUM]':'Total final energy consumption (TFEC) (TJ)'})\n",
    "df=df.rename(columns={'Total electricity output (GWh) [4.1.1_TOTAL.ELECTRICITY.OUTPUT]':'Total electricity output (GWh)'})"
   ]
  },
  {
   "cell_type": "markdown",
   "metadata": {},
   "source": [
    "build plots for the countries we research"
   ]
  },
  {
   "cell_type": "code",
   "execution_count": 20,
   "metadata": {},
   "outputs": [
    {
     "data": {
      "text/plain": [
       "Index(['Country', 'Years', 'Total final energy consumption (TFEC) (TJ)',\n",
       "       'Total electricity output (GWh)'],\n",
       "      dtype='object')"
      ]
     },
     "execution_count": 20,
     "metadata": {},
     "output_type": "execute_result"
    }
   ],
   "source": [
    "df.columns"
   ]
  },
  {
   "cell_type": "code",
   "execution_count": null,
   "metadata": {},
   "outputs": [],
   "source": []
  },
  {
   "cell_type": "code",
   "execution_count": 25,
   "metadata": {},
   "outputs": [],
   "source": [
    "dfg = df.groupby('Years').mean()"
   ]
  },
  {
   "cell_type": "code",
   "execution_count": null,
   "metadata": {},
   "outputs": [],
   "source": []
  },
  {
   "cell_type": "code",
   "execution_count": 26,
   "metadata": {},
   "outputs": [
    {
     "data": {
      "image/png": "[encoded data removed]",
      "text/plain": [
       "<Figure size 1008x432 with 1 Axes>"
      ]
     },
     "metadata": {
      "needs_background": "light"
     },
     "output_type": "display_data"
    }
   ],
   "source": [
    "years = ['2000','2001','2002','2003','2004','2005','2006','2007','2008','2009','2010','2011','2012','2013','2014','2015']\n",
    "indices = ['Total final energy consumption (TFEC) (TJ)',\n",
    "       'Total electricity output (GWh)']\n",
    "\n",
    "# Set figsize, grid and loop over our countries\n",
    "fig, ax = plt.pyplot.subplots(1,1, figsize=(14,6))\n",
    "ax.grid(color='lightgrey')\n",
    "#for idx in indices:\n",
    "#    y = df.loc[idx]\n",
    "ax.plot(years, dfg['Total electricity output (GWh)'])\n",
    "\n",
    "# Set labels and legend\n",
    "ax.set_title('Energy Consum and Energ', size = 20)\n",
    "ax.legend(countries)\n",
    "ax.xaxis.set_label_text('Years', size = 16)\n",
    "ax.yaxis.set_label_text('GigaWatts', size = 16)\n",
    "\n",
    "# Save the figure. must be saved before .show()\n",
    "plt.pyplot.savefig('energyConsum_vs_energyOutput.png')\n",
    "\n",
    "# Show figure\n",
    "plt.pyplot.show()"
   ]
  },
  {
   "cell_type": "code",
   "execution_count": null,
   "metadata": {},
   "outputs": [],
   "source": []
  },
  {
   "cell_type": "code",
   "execution_count": null,
   "metadata": {},
   "outputs": [],
   "source": []
  },
  {
   "cell_type": "code",
   "execution_count": null,
   "metadata": {},
   "outputs": [],
   "source": []
  },
  {
   "cell_type": "code",
   "execution_count": null,
   "metadata": {},
   "outputs": [],
   "source": []
  },
  {
   "cell_type": "code",
   "execution_count": null,
   "metadata": {},
   "outputs": [],
   "source": []
  },
  {
   "cell_type": "code",
   "execution_count": null,
   "metadata": {},
   "outputs": [],
   "source": []
  },
  {
   "cell_type": "code",
   "execution_count": null,
   "metadata": {},
   "outputs": [],
   "source": []
  }
 ],
 "metadata": {
  "kernelspec": {
   "display_name": "Python 3",
   "language": "python",
   "name": "python3"
  },
  "language_info": {
   "codemirror_mode": {
    "name": "ipython",
    "version": 3
   },
   "file_extension": ".py",
   "mimetype": "text/x-python",
   "name": "python",
   "nbconvert_exporter": "python",
   "pygments_lexer": "ipython3",
   "version": "3.8.5"
  }
 },
 "nbformat": 4,
 "nbformat_minor": 2
}
