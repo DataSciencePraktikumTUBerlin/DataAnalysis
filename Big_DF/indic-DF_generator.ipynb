{
 "cells": [
  {
   "cell_type": "markdown",
   "metadata": {},
   "source": [
    "# Generate Dataframe for each indicator, with homogene format\n",
    "This **pipeline** shows how to generate a a consistent dataframe, and its .csv file, from the *source* folder. It is a generic version, which means that for each file minor changes will be needed."
   ]
  },
  {
   "cell_type": "markdown",
   "metadata": {},
   "source": [
    "## Preliminars"
   ]
  },
  {
   "cell_type": "code",
   "execution_count": 1,
   "metadata": {},
   "outputs": [],
   "source": [
    "# Imports\n",
    "import pandas as pd\n",
    "import numpy as np\n",
    "import glob"
   ]
  },
  {
   "cell_type": "code",
   "execution_count": 2,
   "metadata": {},
   "outputs": [],
   "source": [
    "# Load all corresponding metadata in a compound dict (dict of dicts)\n",
    "df_meta = pd.read_csv('Indicators_metadata.csv')\n",
    "df_meta_temp = df_meta.set_index('KEY')"
   ]
  },
  {
   "cell_type": "code",
   "execution_count": 3,
   "metadata": {},
   "outputs": [],
   "source": [
    "# Identify files to be preprocessed\n",
    "csv_path_list = glob.glob('source_data/Energy/*.csv', recursive=True)\n",
    "csv_list = [file.replace('source_data/Energy\\\\', '').replace('.csv', '') for file in csv_path_list]"
   ]
  },
  {
   "cell_type": "code",
   "execution_count": 4,
   "metadata": {},
   "outputs": [],
   "source": [
    "# Build the Dict\n",
    "df_metadict={}\n",
    "for ind_key in df_meta['KEY']:\n",
    "    if df_meta_temp['SOURCE FILE'][ind_key] in csv_list:\n",
    "#        print(ind_key)\n",
    "        df_metadict_sub = {}\n",
    "        df_metadict_sub['Units_ind']= df_meta_temp['UNIT'][ind_key]\n",
    "        df_metadict_sub['Origin_ind']= df_meta_temp['SITE'][ind_key]\n",
    "        df_metadict_sub['Name_ind'] =  df_meta_temp['INDICATOR'][ind_key]\n",
    "#       df_metadict_sub['Key_ind'] =  df_meta_temp['KEY'][Key_meta]\n",
    "        df_metadict_sub['Desc_ind'] =  df_meta_temp['DESCRIPTION'][ind_key]\n",
    "        df_metadict_sub['source_file'] =  df_meta_temp['SOURCE FILE'][ind_key]+'.csv'\n",
    "        df_metadict_sub['excep_format'] = df_meta_temp['SPECIAL FORMAT'][ind_key]#.astype(bool)\n",
    "        df_metadict[ind_key] = df_metadict_sub "
   ]
  },
  {
   "cell_type": "code",
   "execution_count": 5,
   "metadata": {},
   "outputs": [],
   "source": [
    "indicators=list(df_metadict.keys())"
   ]
  },
  {
   "cell_type": "markdown",
   "metadata": {},
   "source": [
    "## Iteratively generate the Data Frames and print to *.csv*"
   ]
  },
  {
   "cell_type": "code",
   "execution_count": 6,
   "metadata": {},
   "outputs": [
    {
     "name": "stdout",
     "output_type": "stream",
     "text": [
      "dict_keys(['ELECTP_A', 'ENECON_A', 'EINT_A', 'RELECTP_A', 'RENECON_A', 'RELECTP_B', 'WPELECTP_B', 'ELECTP_B', 'ELECTC_B', 'IGEO_C', 'ISOL_C', 'IWIN_C', 'PENERC_C', 'RPENEC_C', 'ELECTP_C', 'ELECTP2_C', 'ASST_D', 'SECSER_E', 'SECRES_E', 'SECTRA_E', 'SECIND_E', 'EBALAN_E', 'ISOL_F', 'IWIN_F'])\n"
     ]
    }
   ],
   "source": [
    "# Call desired data and stored in DF-Dict\n",
    "df_dict = {}\n",
    "for indic in indicators:    \n",
    "    df_dict[indic] = pd.read_csv('source_data/Energy\\\\'+ df_metadict[indic]['source_file'])\n",
    "print(df_dict.keys())"
   ]
  },
  {
   "cell_type": "code",
   "execution_count": 8,
   "metadata": {},
   "outputs": [],
   "source": [
    "# Adjust the DF to homogeneity\n",
    "SELECTED_COUNTRIES = ['China', 'Germany', 'India', 'United States']\n",
    "YEARS_INCLUDED = [2000,2017]\n",
    "for indic in indicators:    \n",
    "    if not df_metadict[indic]['excep_format']:\n",
    "        Name_ind =df_metadict[indic]['Name_ind']\n",
    "#        print(indic, df_metadict[indic]['excep_format'])\n",
    "        df_p = df_dict[indic]\n",
    "        # Melt to a Long format\n",
    "        df_p=df_dict[indic].melt(id_vars='Country')\n",
    "        # Rename column to Years\n",
    "        df_p =df_p.rename(columns = {'variable':'Years'})\n",
    "        # Adjust column types\n",
    "        df_p['value']= pd.to_numeric(df_p['value'],errors='coerce')\n",
    "        df_p['Years'] = pd.to_numeric(df_p['Years'],errors='coerce') #df_p['Years'].astype(int)\n",
    "        # Rename column to Indic Name\n",
    "        df_p =df_p.rename(columns = {'value':Name_ind})\n",
    "        # Selecting rows based on time range and selected countries \n",
    "        sel_y = YEARS_INCLUDED\n",
    "        df_p =df_p[(df_p['Years']>=sel_y[0])&(df_p['Years']<=sel_y[1])] # (df_p['Years'].is_integer())&\n",
    "        df_p = df_p[df_p.Country.isin(SELECTED_COUNTRIES)]\n",
    "        # Clean the indexes\n",
    "        df_p = df_p.set_index('Country')\n",
    "        df_p = df_p.reset_index()\n",
    "        df_p.to_csv('prov_result/'+indic+'.csv')"
   ]
  }
 ],
 "metadata": {
  "kernelspec": {
   "display_name": "Python 3",
   "language": "python",
   "name": "python3"
  },
  "language_info": {
   "codemirror_mode": {
    "name": "ipython",
    "version": 3
   },
   "file_extension": ".py",
   "mimetype": "text/x-python",
   "name": "python",
   "nbconvert_exporter": "python",
   "pygments_lexer": "ipython3",
   "version": "3.8.3"
  }
 },
 "nbformat": 4,
 "nbformat_minor": 4
}
