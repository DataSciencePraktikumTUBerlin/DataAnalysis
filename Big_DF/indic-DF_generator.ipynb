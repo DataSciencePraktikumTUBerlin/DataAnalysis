{
 "cells": [
  {
   "cell_type": "markdown",
   "metadata": {},
   "source": [
    "# Generate Dataframe for each indicator, with homogene format\n",
    "This **pipeline** shows how to generate a a consistent dataframe, and its .csv file, from the *source* folder. It is a generic version, which means that for each file minor changes will be needed."
   ]
  },
  {
   "cell_type": "markdown",
   "metadata": {},
   "source": [
    "## Preliminars"
   ]
  },
  {
   "cell_type": "code",
   "execution_count": null,
   "metadata": {},
   "outputs": [],
   "source": [
    "# Imports\n",
    "import pandas as pd\n",
    "import numpy as np\n",
    "import glob"
   ]
  },
  {
   "cell_type": "code",
   "execution_count": null,
   "metadata": {},
   "outputs": [],
   "source": [
    "# Identify files to be preprocessed\n",
    "csv_list = glob.glob('source_data/Energy/*.csv', recursive=True)\n",
    "#csv_list = [file.replace('select_df\\\\', '') for file in csv_list]"
   ]
  },
  {
   "cell_type": "code",
   "execution_count": null,
   "metadata": {},
   "outputs": [],
   "source": [
    "# Load all corresponding metadata in a compound dict (dict of dicts)\n",
    "df_metadict = {}\n",
    "df_meta = pd.read_csv('Indicators_metadata.csv')\n",
    "df_meta_temp = df_meta.set_index('SOURCE FILE')"
   ]
  },
  {
   "cell_type": "code",
   "execution_count": null,
   "metadata": {},
   "outputs": [],
   "source": [
    "# Build the Dict\n",
    "for csv_file in csv_list:    \n",
    "    df_metadict_sub = {}\n",
    "    csv_file= csv_file.replace('source_data/Energy\\\\', '').replace('.csv', '')\n",
    "    df_metadict_sub['Units_ind']= df_meta_temp['UNIT'][csv_file]\n",
    "    df_metadict_sub['Origin_ind']= df_meta_temp['SITE'][csv_file]\n",
    "    df_metadict_sub['Name_ind'] =  df_meta_temp['INDICATOR'][csv_file]\n",
    "    df_metadict_sub['Key_ind'] =  df_meta_temp['KEY'][csv_file]\n",
    "    df_metadict_sub['Desc_ind'] =  df_meta_temp['DESCRIPTION'][csv_file]\n",
    "    df_metadict_sub['excep_format'] = df_meta_temp['SPECIAL FORMAT'][csv_file]\n",
    "    df_metadict[csv_file] = df_metadict_sub "
   ]
  },
  {
   "cell_type": "markdown",
   "metadata": {},
   "source": [
    "## Iteratively generate the Data Frames"
   ]
  },
  {
   "cell_type": "code",
   "execution_count": null,
   "metadata": {},
   "outputs": [],
   "source": [
    "# Call desired data and stored in DF-Dict\n",
    "df_dict = {}\n",
    "for csv_file in csv_list:\n",
    "    df_dict[csv_file.replace('source_data/Energy\\\\', '').replace('.csv', '')] = pd.read_csv(csv_file)  # index_col=0 COULD CAUSE PPROBLEMS\n",
    "    "
   ]
  },
  {
   "cell_type": "code",
   "execution_count": null,
   "metadata": {},
   "outputs": [],
   "source": [
    "# Adjust the DF to homogeneity\n",
    "SELECTED_COUNTRIES = ['China', 'Germany', 'India', 'United States']\n",
    "YEARS_INCLUDED = [2000,2017]\n",
    "for csv_file in csv_list:    \n",
    "    csv_file = csv_file.replace('source_data/Energy\\\\', '').replace('.csv', '')\n",
    "    if df_metadict_sub['excep_format'][csv_file]:\n",
    "        df_p = df_dict[csv_file]\n",
    "        # Melt to a Long format\n",
    "        df_p=df_dict['bp_penergy_consum'].melt(id_vars='Country')\n",
    "        # Rename Years column\n",
    "        df_p =df_p.rename(columns = {'variable':'Years'})\n",
    "        # Adjust column types\n",
    "        df_p['value']= df_p['value'].astype(float) #pd.to_numeric(df_p['value'],errors='coerce')\n",
    "        df_p['Years'] = pd.to_numeric(df_p['Years'],errors='coerce') #df_p['Years'].astype(int)\n",
    "        # Selecting rows based on time range and selected countries \n",
    "        sel_y = YEARS_INCLUDED\n",
    "        df_p =df_p[(df_p['Years']>sel_y[0])&(df_p['Years']<sel_y[1])] # (df_p['Years'].is_integer())&\n",
    "        df_p = df_p[df_p.Country.isin(SELECTED_COUNTRIES)]\n",
    "        # Clean the indexes\n",
    "        df_p = df_p.set_index('Country')\n",
    "        df_p = df_p.reset_index()\n",
    "        df_p"
   ]
  },
  {
   "cell_type": "markdown",
   "metadata": {},
   "source": [
    "## Print to csv"
   ]
  },
  {
   "cell_type": "code",
   "execution_count": null,
   "metadata": {},
   "outputs": [],
   "source": [
    "for csv_file in csv_list:    \n",
    "    csv_file = csv_file.replace('source_data/Energy\\\\', '').replace('.csv', '')\n",
    "    df_p.to_csv('prov_result/'+csv_file+'.csv')"
   ]
  }
 ],
 "metadata": {
  "kernelspec": {
   "display_name": "Python 3",
   "language": "python",
   "name": "python3"
  },
  "language_info": {
   "codemirror_mode": {
    "name": "ipython",
    "version": 3
   },
   "file_extension": ".py",
   "mimetype": "text/x-python",
   "name": "python",
   "nbconvert_exporter": "python",
   "pygments_lexer": "ipython3",
   "version": "3.8.3"
  }
 },
 "nbformat": 4,
 "nbformat_minor": 4
}
