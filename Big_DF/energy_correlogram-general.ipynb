{
 "cells": [
  {
   "cell_type": "code",
   "execution_count": 3,
   "metadata": {},
   "outputs": [],
   "source": [
    "#from string import ascii_letters\n",
    "import numpy as np\n",
    "import pandas as pd\n",
    "import seaborn as sns\n",
    "import matplotlib.pyplot as plt\n",
    "import glob"
   ]
  },
  {
   "cell_type": "code",
   "execution_count": 12,
   "metadata": {},
   "outputs": [],
   "source": [
    "# Identify files to be preprocessed\n",
    "csv_path_list = glob.glob('to_corr/*.csv', recursive=True)\n",
    "csv_list = [file.replace('to_corr\\\\', '').replace('.csv', '') for file in csv_path_list]"
   ]
  },
  {
   "cell_type": "code",
   "execution_count": 13,
   "metadata": {},
   "outputs": [
    {
     "data": {
      "text/plain": [
       "['ELECTC_B', 'ELECTP2_C', 'ELECTP_B', 'ELECTP_C', 'PENERC_C']"
      ]
     },
     "execution_count": 13,
     "metadata": {},
     "output_type": "execute_result"
    }
   ],
   "source": [
    "csv_list"
   ]
  },
  {
   "cell_type": "code",
   "execution_count": 17,
   "metadata": {},
   "outputs": [],
   "source": [
    "df_corr_dict={}\n",
    "for file in csv_path_list:\n",
    "    filename = file.replace('to_corr\\\\', '').replace('.csv', '')\n",
    "    df_corr_dict[filename] = pd.read_csv(file, index_col=0)"
   ]
  },
  {
   "cell_type": "code",
   "execution_count": 24,
   "metadata": {},
   "outputs": [
    {
     "data": {
      "text/plain": [
       "dict_keys(['ELECTC_B', 'ELECTP2_C', 'ELECTP_B', 'ELECTP_C', 'PENERC_C'])"
      ]
     },
     "execution_count": 24,
     "metadata": {},
     "output_type": "execute_result"
    }
   ],
   "source": [
    "df_corr_dict.keys()"
   ]
  },
  {
   "cell_type": "code",
   "execution_count": 29,
   "metadata": {},
   "outputs": [],
   "source": [
    "# merge them\n",
    "df_corr = df_corr_dict[csv_list[1]]#pd.DataFrame()\n",
    "for df_name, df in df_corr_dict.items():\n",
    "     if (df_name != csv_list[1]):\n",
    "            df_corr = pd.merge(df_corr, df) # how is this been merged??? e.g. outer\n",
    "#    df_result = pd.merge(df_result, df, how=\"outer\", on=[\"Country\", \"Years\"])"
   ]
  },
  {
   "cell_type": "code",
   "execution_count": 30,
   "metadata": {},
   "outputs": [
    {
     "data": {
      "text/html": [
       "<div>\n",
       "<style scoped>\n",
       "    .dataframe tbody tr th:only-of-type {\n",
       "        vertical-align: middle;\n",
       "    }\n",
       "\n",
       "    .dataframe tbody tr th {\n",
       "        vertical-align: top;\n",
       "    }\n",
       "\n",
       "    .dataframe thead th {\n",
       "        text-align: right;\n",
       "    }\n",
       "</style>\n",
       "<table border=\"1\" class=\"dataframe\">\n",
       "  <thead>\n",
       "    <tr style=\"text-align: right;\">\n",
       "      <th></th>\n",
       "      <th>Country</th>\n",
       "      <th>Years</th>\n",
       "      <th>Electricity generation from other</th>\n",
       "      <th>Electricity Consumption</th>\n",
       "      <th>Electricity Production</th>\n",
       "      <th>Electricity generation</th>\n",
       "      <th>Primary Energy: Consumption</th>\n",
       "    </tr>\n",
       "  </thead>\n",
       "  <tbody>\n",
       "    <tr>\n",
       "      <th>0</th>\n",
       "      <td>United States</td>\n",
       "      <td>2000.0</td>\n",
       "      <td>NaN</td>\n",
       "      <td>3590.0</td>\n",
       "      <td>4053.0</td>\n",
       "      <td>NaN</td>\n",
       "      <td>9.513879e+09</td>\n",
       "    </tr>\n",
       "    <tr>\n",
       "      <th>1</th>\n",
       "      <td>Germany</td>\n",
       "      <td>2000.0</td>\n",
       "      <td>NaN</td>\n",
       "      <td>501.0</td>\n",
       "      <td>577.0</td>\n",
       "      <td>576.556</td>\n",
       "      <td>1.430741e+09</td>\n",
       "    </tr>\n",
       "    <tr>\n",
       "      <th>2</th>\n",
       "      <td>China</td>\n",
       "      <td>2000.0</td>\n",
       "      <td>0.003687</td>\n",
       "      <td>1138.0</td>\n",
       "      <td>1356.0</td>\n",
       "      <td>1355.600</td>\n",
       "      <td>4.245316e+09</td>\n",
       "    </tr>\n",
       "    <tr>\n",
       "      <th>3</th>\n",
       "      <td>India</td>\n",
       "      <td>2000.0</td>\n",
       "      <td>0.000000</td>\n",
       "      <td>376.0</td>\n",
       "      <td>570.0</td>\n",
       "      <td>NaN</td>\n",
       "      <td>1.334156e+09</td>\n",
       "    </tr>\n",
       "    <tr>\n",
       "      <th>4</th>\n",
       "      <td>United States</td>\n",
       "      <td>2001.0</td>\n",
       "      <td>NaN</td>\n",
       "      <td>3554.0</td>\n",
       "      <td>3865.0</td>\n",
       "      <td>NaN</td>\n",
       "      <td>9.289452e+09</td>\n",
       "    </tr>\n",
       "    <tr>\n",
       "      <th>...</th>\n",
       "      <td>...</td>\n",
       "      <td>...</td>\n",
       "      <td>...</td>\n",
       "      <td>...</td>\n",
       "      <td>...</td>\n",
       "      <td>...</td>\n",
       "      <td>...</td>\n",
       "    </tr>\n",
       "    <tr>\n",
       "      <th>67</th>\n",
       "      <td>India</td>\n",
       "      <td>2016.0</td>\n",
       "      <td>0.104105</td>\n",
       "      <td>1098.0</td>\n",
       "      <td>1463.0</td>\n",
       "      <td>NaN</td>\n",
       "      <td>3.006743e+09</td>\n",
       "    </tr>\n",
       "    <tr>\n",
       "      <th>68</th>\n",
       "      <td>United States</td>\n",
       "      <td>2017.0</td>\n",
       "      <td>NaN</td>\n",
       "      <td>3808.0</td>\n",
       "      <td>4251.0</td>\n",
       "      <td>NaN</td>\n",
       "      <td>9.233052e+09</td>\n",
       "    </tr>\n",
       "    <tr>\n",
       "      <th>69</th>\n",
       "      <td>Germany</td>\n",
       "      <td>2017.0</td>\n",
       "      <td>267.438000</td>\n",
       "      <td>531.0</td>\n",
       "      <td>653.0</td>\n",
       "      <td>NaN</td>\n",
       "      <td>1.378398e+09</td>\n",
       "    </tr>\n",
       "    <tr>\n",
       "      <th>70</th>\n",
       "      <td>China</td>\n",
       "      <td>2017.0</td>\n",
       "      <td>NaN</td>\n",
       "      <td>5683.0</td>\n",
       "      <td>6529.0</td>\n",
       "      <td>NaN</td>\n",
       "      <td>1.308317e+09</td>\n",
       "    </tr>\n",
       "    <tr>\n",
       "      <th>71</th>\n",
       "      <td>India</td>\n",
       "      <td>2017.0</td>\n",
       "      <td>0.174565</td>\n",
       "      <td>1156.0</td>\n",
       "      <td>1541.0</td>\n",
       "      <td>NaN</td>\n",
       "      <td>3.133455e+09</td>\n",
       "    </tr>\n",
       "  </tbody>\n",
       "</table>\n",
       "<p>72 rows × 7 columns</p>\n",
       "</div>"
      ],
      "text/plain": [
       "          Country   Years  Electricity generation from other  \\\n",
       "0   United States  2000.0                                NaN   \n",
       "1         Germany  2000.0                                NaN   \n",
       "2           China  2000.0                           0.003687   \n",
       "3           India  2000.0                           0.000000   \n",
       "4   United States  2001.0                                NaN   \n",
       "..            ...     ...                                ...   \n",
       "67          India  2016.0                           0.104105   \n",
       "68  United States  2017.0                                NaN   \n",
       "69        Germany  2017.0                         267.438000   \n",
       "70          China  2017.0                                NaN   \n",
       "71          India  2017.0                           0.174565   \n",
       "\n",
       "    Electricity Consumption  Electricity Production  Electricity generation  \\\n",
       "0                    3590.0                  4053.0                     NaN   \n",
       "1                     501.0                   577.0                 576.556   \n",
       "2                    1138.0                  1356.0                1355.600   \n",
       "3                     376.0                   570.0                     NaN   \n",
       "4                    3554.0                  3865.0                     NaN   \n",
       "..                      ...                     ...                     ...   \n",
       "67                   1098.0                  1463.0                     NaN   \n",
       "68                   3808.0                  4251.0                     NaN   \n",
       "69                    531.0                   653.0                     NaN   \n",
       "70                   5683.0                  6529.0                     NaN   \n",
       "71                   1156.0                  1541.0                     NaN   \n",
       "\n",
       "    Primary Energy: Consumption  \n",
       "0                  9.513879e+09  \n",
       "1                  1.430741e+09  \n",
       "2                  4.245316e+09  \n",
       "3                  1.334156e+09  \n",
       "4                  9.289452e+09  \n",
       "..                          ...  \n",
       "67                 3.006743e+09  \n",
       "68                 9.233052e+09  \n",
       "69                 1.378398e+09  \n",
       "70                 1.308317e+09  \n",
       "71                 3.133455e+09  \n",
       "\n",
       "[72 rows x 7 columns]"
      ]
     },
     "execution_count": 30,
     "metadata": {},
     "output_type": "execute_result"
    }
   ],
   "source": [
    "df_corr"
   ]
  },
  {
   "cell_type": "code",
   "execution_count": 34,
   "metadata": {},
   "outputs": [
    {
     "data": {
      "text/plain": [
       "[2000.0,\n",
       " 2001.0,\n",
       " 2002.0,\n",
       " 2003.0,\n",
       " 2004.0,\n",
       " 2005.0,\n",
       " 2006.0,\n",
       " 2007.0,\n",
       " 2008.0,\n",
       " 2009.0,\n",
       " 2010.0,\n",
       " 2011.0,\n",
       " 2012.0,\n",
       " 2013.0,\n",
       " 2014.0,\n",
       " 2015.0,\n",
       " 2016.0,\n",
       " 2017.0]"
      ]
     },
     "execution_count": 34,
     "metadata": {},
     "output_type": "execute_result"
    }
   ],
   "source": [
    "# list of years\n",
    "years = list(df_corr['Years'].unique())\n",
    "years"
   ]
  },
  {
   "cell_type": "code",
   "execution_count": 36,
   "metadata": {},
   "outputs": [
    {
     "data": {
      "text/plain": [
       "['United States', 'Germany', 'China', 'India']"
      ]
     },
     "execution_count": 36,
     "metadata": {},
     "output_type": "execute_result"
    }
   ],
   "source": [
    "# list of countries\n",
    "countries = list(df_corr['Country'].unique())\n",
    "countries"
   ]
  },
  {
   "cell_type": "code",
   "execution_count": 33,
   "metadata": {},
   "outputs": [
    {
     "data": {
      "text/plain": [
       "<matplotlib.axes._subplots.AxesSubplot at 0x29dae9898e0>"
      ]
     },
     "execution_count": 33,
     "metadata": {},
     "output_type": "execute_result"
    },
    {
     "data": {
      "image/png": "[encoded data removed]",
      "text/plain": [
       "<Figure size 1440x864 with 2 Axes>"
      ]
     },
     "metadata": {
      "needs_background": "light"
     },
     "output_type": "display_data"
    }
   ],
   "source": [
    "# Compute the correlation matrix\n",
    "corr = df_corr.corr()\n",
    "\n",
    "# Generate a mask for the upper triangle\n",
    "mask = np.triu(np.ones_like(corr, dtype=bool))\n",
    "\n",
    "# Set up the matplotlib figure\n",
    "f, ax = plt.subplots(figsize=(20, 12))\n",
    "\n",
    "# Generate a custom diverging colormap\n",
    "cmap = sns.diverging_palette(15, 130, as_cmap=True)\n",
    "\n",
    "#plt.tight_layout()\n",
    "\n",
    "# Draw the heatmap with the mask and correct aspect ratio\n",
    "sns_plot = sns.heatmap(corr, mask=mask, cmap=cmap, vmax=.3, center=0,\n",
    "            square=True, linewidths=.5, cbar_kws={\"shrink\": .5})\n",
    "\n",
    "# Save the figure. must be saved before .show()\n",
    "fig = sns_plot.get_figure()\n",
    "fig.savefig(\"correlogram.png\", bbox_inches='tight')\n",
    "\n",
    "\n",
    "\n",
    "sns_plot"
   ]
  }
 ],
 "metadata": {
  "kernelspec": {
   "display_name": "Python 3",
   "language": "python",
   "name": "python3"
  },
  "language_info": {
   "codemirror_mode": {
    "name": "ipython",
    "version": 3
   },
   "file_extension": ".py",
   "mimetype": "text/x-python",
   "name": "python",
   "nbconvert_exporter": "python",
   "pygments_lexer": "ipython3",
   "version": "3.8.3"
  }
 },
 "nbformat": 4,
 "nbformat_minor": 4
}
