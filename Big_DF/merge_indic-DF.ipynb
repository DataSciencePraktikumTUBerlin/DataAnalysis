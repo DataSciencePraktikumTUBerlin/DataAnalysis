{
 "cells": [
  {
   "cell_type": "markdown",
   "metadata": {},
   "source": [
    "# Merge the generated *.csv*\n",
    "This **pipeline** shows how to generate a general dataframe, and its .csv file, from all the *.csv* files on the *select_df* folder. The files need to be manually selected and copy/pasted form the *result_df* folder."
   ]
  },
  {
   "cell_type": "markdown",
   "metadata": {},
   "source": [
    "## Preliminars\n",
    "Build the list of .csv, then dataframes, to be merged"
   ]
  },
  {
   "cell_type": "code",
   "execution_count": 1,
   "metadata": {},
   "outputs": [],
   "source": [
    "# Imports\n",
    "import pandas as pd\n",
    "import numpy as np\n",
    "import glob"
   ]
  },
  {
   "cell_type": "code",
   "execution_count": 2,
   "metadata": {},
   "outputs": [],
   "source": [
    "# Identify files\n",
    "csv_list = glob.glob('select_df/*.csv', recursive=True)\n",
    "#csv_list = [file.replace('select_df\\\\', '') for file in csv_list]\n",
    "#print(csv_list)"
   ]
  },
  {
   "cell_type": "code",
   "execution_count": 3,
   "metadata": {},
   "outputs": [],
   "source": [
    "# Generate all dataframes and store them in a dict\n",
    "df_dict = {}\n",
    "for csv_file in csv_list:\n",
    "    df_dict[csv_file.replace('select_df\\\\', '').replace('.csv', '')] = pd.read_csv(csv_file)"
   ]
  },
  {
   "cell_type": "code",
   "execution_count": 4,
   "metadata": {},
   "outputs": [
    {
     "data": {
      "text/plain": [
       "dict_keys(['preva_econ', 'preva_eprod', 'preva_inten', 'preva_sharo', 'preva_shart', 'prevb_sharr', 'prevb_sharw', 'prevc_egen', 'prevc_egeno', 'prevc_icapg', 'prevc_icaps', 'prevc_icapw', 'prevc_pecon', 'prevc_r-con', 'preve_serv', 'prevf_icaps', 'prevf_icapw'])"
      ]
     },
     "execution_count": 4,
     "metadata": {},
     "output_type": "execute_result"
    }
   ],
   "source": [
    "# Check the keys (csv's transformed/stored\n",
    "df_dict.keys()"
   ]
  },
  {
   "cell_type": "code",
   "execution_count": 5,
   "metadata": {},
   "outputs": [
    {
     "data": {
      "text/plain": [
       "array(['Country', 'Electricity generation TWh',\n",
       "       'Electricity generation from other TWh',\n",
       "       'Energy intensity level of primary energy (MJ/2011 USD PPP) [6.1_PRIMARY.ENERGY.INTENSITY]',\n",
       "       'Primary Energy: Consumption EJ',\n",
       "       'Renewable Energy Geothermal (Installed capacity)MW',\n",
       "       'Renewable Energy Solar (Installed capacity) MW',\n",
       "       'Renewable Energy Wind  (Installed capacity) MW',\n",
       "       'Renewable electricity share of total electricity output (%) [4.1_SHARE.RE.IN.ELECTRICITY]',\n",
       "       'Renewable energy share of TFEC (%) [2.1_SHARE.TOTAL.RE.IN.TFEC]',\n",
       "       'Renewable installed PV Power GW',\n",
       "       'Renewable installed Wind Power GW',\n",
       "       'Renewable share electricity production',\n",
       "       'Renewables:Consumption EJ',\n",
       "       'Total electricity output (GWh) [4.1.1_TOTAL.ELECTRICITY.OUTPUT]',\n",
       "       'Total final energy consumption (TFEC) (TJ) [1.1_TOTAL.FINAL.ENERGY.CONSUM]',\n",
       "       'Unnamed: 0', 'WEB Services Energy Indicators indexed',\n",
       "       'Wind and solar share electricity production%', 'Years'],\n",
       "      dtype='<U89')"
      ]
     },
     "execution_count": 5,
     "metadata": {},
     "output_type": "execute_result"
    }
   ],
   "source": [
    "# Check the columns of the selected DataFrames\n",
    "df_columns = []\n",
    "i=0\n",
    "# Generate list of column names\n",
    "for csv_file in csv_list:\n",
    "    df_columns = df_columns + df_dict[csv_file.replace('select_df\\\\', '').replace('.csv', '')].columns.tolist()\n",
    "# Find and print the unique values\n",
    "df_columns = np.array(df_columns)\n",
    "df_columns_u = np.unique(df_columns)\n",
    "df_columns_u"
   ]
  },
  {
   "cell_type": "code",
   "execution_count": null,
   "metadata": {},
   "outputs": [],
   "source": [
    "# Columns to be erased using:\n",
    "# del df['column name'] "
   ]
  },
  {
   "cell_type": "markdown",
   "metadata": {},
   "source": [
    "## Merge the stored DataFrames"
   ]
  },
  {
   "cell_type": "code",
   "execution_count": 6,
   "metadata": {},
   "outputs": [],
   "source": [
    "# Create empty DataFrame to begin \n",
    "df_result = pd.DataFrame(columns =['Country', 'Years'])"
   ]
  },
  {
   "cell_type": "code",
   "execution_count": 7,
   "metadata": {},
   "outputs": [],
   "source": [
    "# Merge all the dataframes in the dict\n",
    "for df_name, df in df_dict.items():\n",
    "    df_result = pd.merge(df_result, df, how=\"outer\", on=[\"Country\", \"Years\"])"
   ]
  },
  {
   "cell_type": "code",
   "execution_count": 8,
   "metadata": {},
   "outputs": [
    {
     "data": {
      "text/html": [
       "<div>\n",
       "<style scoped>\n",
       "    .dataframe tbody tr th:only-of-type {\n",
       "        vertical-align: middle;\n",
       "    }\n",
       "\n",
       "    .dataframe tbody tr th {\n",
       "        vertical-align: top;\n",
       "    }\n",
       "\n",
       "    .dataframe thead th {\n",
       "        text-align: right;\n",
       "    }\n",
       "</style>\n",
       "<table border=\"1\" class=\"dataframe\">\n",
       "  <thead>\n",
       "    <tr style=\"text-align: right;\">\n",
       "      <th></th>\n",
       "      <th>Unnamed: 0_x</th>\n",
       "      <th>Country</th>\n",
       "      <th>Years</th>\n",
       "      <th>Total final energy consumption (TFEC) (TJ) [1.1_TOTAL.FINAL.ENERGY.CONSUM]</th>\n",
       "      <th>Unnamed: 0_y</th>\n",
       "      <th>Total electricity output (GWh) [4.1.1_TOTAL.ELECTRICITY.OUTPUT]</th>\n",
       "      <th>Unnamed: 0_x</th>\n",
       "      <th>Energy intensity level of primary energy (MJ/2011 USD PPP) [6.1_PRIMARY.ENERGY.INTENSITY]</th>\n",
       "      <th>Unnamed: 0_y</th>\n",
       "      <th>Renewable electricity share of total electricity output (%) [4.1_SHARE.RE.IN.ELECTRICITY]</th>\n",
       "      <th>...</th>\n",
       "      <th>Unnamed: 0_x</th>\n",
       "      <th>Primary Energy: Consumption EJ</th>\n",
       "      <th>Unnamed: 0_y</th>\n",
       "      <th>Renewables:Consumption EJ</th>\n",
       "      <th>Unnamed: 0_x</th>\n",
       "      <th>WEB Services Energy Indicators indexed</th>\n",
       "      <th>Unnamed: 0_y</th>\n",
       "      <th>Renewable installed PV Power GW</th>\n",
       "      <th>Unnamed: 0</th>\n",
       "      <th>Renewable installed Wind Power GW</th>\n",
       "    </tr>\n",
       "  </thead>\n",
       "  <tbody>\n",
       "    <tr>\n",
       "      <th>0</th>\n",
       "      <td>0.0</td>\n",
       "      <td>China</td>\n",
       "      <td>2000</td>\n",
       "      <td>30187188.73</td>\n",
       "      <td>0.0</td>\n",
       "      <td>1355738</td>\n",
       "      <td>0.0</td>\n",
       "      <td>10.23305051</td>\n",
       "      <td>0.0</td>\n",
       "      <td>16.63949819</td>\n",
       "      <td>...</td>\n",
       "      <td>2</td>\n",
       "      <td>42.453161</td>\n",
       "      <td>2</td>\n",
       "      <td>0.031489</td>\n",
       "      <td>NaN</td>\n",
       "      <td>NaN</td>\n",
       "      <td>2</td>\n",
       "      <td>0.0</td>\n",
       "      <td>3</td>\n",
       "      <td>0.352</td>\n",
       "    </tr>\n",
       "    <tr>\n",
       "      <th>1</th>\n",
       "      <td>1.0</td>\n",
       "      <td>China</td>\n",
       "      <td>2001</td>\n",
       "      <td>30940867.04</td>\n",
       "      <td>1.0</td>\n",
       "      <td>1480949</td>\n",
       "      <td>1.0</td>\n",
       "      <td>9.833583306</td>\n",
       "      <td>1.0</td>\n",
       "      <td>18.95851917</td>\n",
       "      <td>...</td>\n",
       "      <td>6</td>\n",
       "      <td>44.841977</td>\n",
       "      <td>6</td>\n",
       "      <td>0.033018</td>\n",
       "      <td>NaN</td>\n",
       "      <td>NaN</td>\n",
       "      <td>6</td>\n",
       "      <td>0.0</td>\n",
       "      <td>7</td>\n",
       "      <td>0.406</td>\n",
       "    </tr>\n",
       "    <tr>\n",
       "      <th>2</th>\n",
       "      <td>2.0</td>\n",
       "      <td>China</td>\n",
       "      <td>2002</td>\n",
       "      <td>32272543.97</td>\n",
       "      <td>2.0</td>\n",
       "      <td>1654164</td>\n",
       "      <td>2.0</td>\n",
       "      <td>9.621842057</td>\n",
       "      <td>2.0</td>\n",
       "      <td>17.6186279</td>\n",
       "      <td>...</td>\n",
       "      <td>10</td>\n",
       "      <td>48.844607</td>\n",
       "      <td>10</td>\n",
       "      <td>0.035471</td>\n",
       "      <td>NaN</td>\n",
       "      <td>NaN</td>\n",
       "      <td>10</td>\n",
       "      <td>0.0</td>\n",
       "      <td>11</td>\n",
       "      <td>0.473</td>\n",
       "    </tr>\n",
       "    <tr>\n",
       "      <th>3</th>\n",
       "      <td>3.0</td>\n",
       "      <td>China</td>\n",
       "      <td>2003</td>\n",
       "      <td>35505254.39</td>\n",
       "      <td>3.0</td>\n",
       "      <td>1910755</td>\n",
       "      <td>3.0</td>\n",
       "      <td>9.994209983</td>\n",
       "      <td>3.0</td>\n",
       "      <td>15.03704033</td>\n",
       "      <td>...</td>\n",
       "      <td>14</td>\n",
       "      <td>56.875222</td>\n",
       "      <td>14</td>\n",
       "      <td>0.041101</td>\n",
       "      <td>NaN</td>\n",
       "      <td>NaN</td>\n",
       "      <td>14</td>\n",
       "      <td>0.0</td>\n",
       "      <td>15</td>\n",
       "      <td>0.568</td>\n",
       "    </tr>\n",
       "    <tr>\n",
       "      <th>4</th>\n",
       "      <td>4.0</td>\n",
       "      <td>China</td>\n",
       "      <td>2004</td>\n",
       "      <td>41469975.08</td>\n",
       "      <td>4.0</td>\n",
       "      <td>2203502</td>\n",
       "      <td>4.0</td>\n",
       "      <td>10.35599738</td>\n",
       "      <td>4.0</td>\n",
       "      <td>16.22326642</td>\n",
       "      <td>...</td>\n",
       "      <td>18</td>\n",
       "      <td>66.545716</td>\n",
       "      <td>18</td>\n",
       "      <td>0.057830</td>\n",
       "      <td>NaN</td>\n",
       "      <td>NaN</td>\n",
       "      <td>18</td>\n",
       "      <td>0.0</td>\n",
       "      <td>19</td>\n",
       "      <td>0.764</td>\n",
       "    </tr>\n",
       "  </tbody>\n",
       "</table>\n",
       "<p>5 rows × 36 columns</p>\n",
       "</div>"
      ],
      "text/plain": [
       "   Unnamed: 0_x Country  Years  \\\n",
       "0           0.0   China   2000   \n",
       "1           1.0   China   2001   \n",
       "2           2.0   China   2002   \n",
       "3           3.0   China   2003   \n",
       "4           4.0   China   2004   \n",
       "\n",
       "  Total final energy consumption (TFEC) (TJ) [1.1_TOTAL.FINAL.ENERGY.CONSUM]  \\\n",
       "0                                        30187188.73                           \n",
       "1                                        30940867.04                           \n",
       "2                                        32272543.97                           \n",
       "3                                        35505254.39                           \n",
       "4                                        41469975.08                           \n",
       "\n",
       "   Unnamed: 0_y  \\\n",
       "0           0.0   \n",
       "1           1.0   \n",
       "2           2.0   \n",
       "3           3.0   \n",
       "4           4.0   \n",
       "\n",
       "  Total electricity output (GWh) [4.1.1_TOTAL.ELECTRICITY.OUTPUT]  \\\n",
       "0                                            1355738                \n",
       "1                                            1480949                \n",
       "2                                            1654164                \n",
       "3                                            1910755                \n",
       "4                                            2203502                \n",
       "\n",
       "   Unnamed: 0_x  \\\n",
       "0           0.0   \n",
       "1           1.0   \n",
       "2           2.0   \n",
       "3           3.0   \n",
       "4           4.0   \n",
       "\n",
       "  Energy intensity level of primary energy (MJ/2011 USD PPP) [6.1_PRIMARY.ENERGY.INTENSITY]  \\\n",
       "0                                        10.23305051                                          \n",
       "1                                        9.833583306                                          \n",
       "2                                        9.621842057                                          \n",
       "3                                        9.994209983                                          \n",
       "4                                        10.35599738                                          \n",
       "\n",
       "   Unnamed: 0_y  \\\n",
       "0           0.0   \n",
       "1           1.0   \n",
       "2           2.0   \n",
       "3           3.0   \n",
       "4           4.0   \n",
       "\n",
       "  Renewable electricity share of total electricity output (%) [4.1_SHARE.RE.IN.ELECTRICITY]  \\\n",
       "0                                        16.63949819                                          \n",
       "1                                        18.95851917                                          \n",
       "2                                         17.6186279                                          \n",
       "3                                        15.03704033                                          \n",
       "4                                        16.22326642                                          \n",
       "\n",
       "   ...  Unnamed: 0_x Primary Energy: Consumption EJ  Unnamed: 0_y  \\\n",
       "0  ...             2                      42.453161             2   \n",
       "1  ...             6                      44.841977             6   \n",
       "2  ...            10                      48.844607            10   \n",
       "3  ...            14                      56.875222            14   \n",
       "4  ...            18                      66.545716            18   \n",
       "\n",
       "   Renewables:Consumption EJ  Unnamed: 0_x  \\\n",
       "0                   0.031489           NaN   \n",
       "1                   0.033018           NaN   \n",
       "2                   0.035471           NaN   \n",
       "3                   0.041101           NaN   \n",
       "4                   0.057830           NaN   \n",
       "\n",
       "   WEB Services Energy Indicators indexed  Unnamed: 0_y  \\\n",
       "0                                     NaN             2   \n",
       "1                                     NaN             6   \n",
       "2                                     NaN            10   \n",
       "3                                     NaN            14   \n",
       "4                                     NaN            18   \n",
       "\n",
       "   Renewable installed PV Power GW  Unnamed: 0  \\\n",
       "0                              0.0           3   \n",
       "1                              0.0           7   \n",
       "2                              0.0          11   \n",
       "3                              0.0          15   \n",
       "4                              0.0          19   \n",
       "\n",
       "   Renewable installed Wind Power GW  \n",
       "0                              0.352  \n",
       "1                              0.406  \n",
       "2                              0.473  \n",
       "3                              0.568  \n",
       "4                              0.764  \n",
       "\n",
       "[5 rows x 36 columns]"
      ]
     },
     "execution_count": 8,
     "metadata": {},
     "output_type": "execute_result"
    }
   ],
   "source": [
    "df_result.head()"
   ]
  },
  {
   "cell_type": "code",
   "execution_count": 11,
   "metadata": {},
   "outputs": [
    {
     "data": {
      "text/plain": [
       "Index(['Country', 'Years',\n",
       "       'Total final energy consumption (TFEC) (TJ) [1.1_TOTAL.FINAL.ENERGY.CONSUM]',\n",
       "       'Total electricity output (GWh) [4.1.1_TOTAL.ELECTRICITY.OUTPUT]',\n",
       "       'Energy intensity level of primary energy (MJ/2011 USD PPP) [6.1_PRIMARY.ENERGY.INTENSITY]',\n",
       "       'Renewable electricity share of total electricity output (%) [4.1_SHARE.RE.IN.ELECTRICITY]',\n",
       "       'Renewable energy share of TFEC (%) [2.1_SHARE.TOTAL.RE.IN.TFEC]',\n",
       "       'Renewable share electricity production',\n",
       "       'Wind and solar share electricity production%',\n",
       "       'Electricity generation TWh', 'Electricity generation from other TWh',\n",
       "       'Renewable Energy Geothermal (Installed capacity)MW',\n",
       "       'Renewable Energy Solar (Installed capacity) MW',\n",
       "       'Renewable Energy Wind  (Installed capacity) MW',\n",
       "       'Primary Energy: Consumption EJ', 'Renewables:Consumption EJ',\n",
       "       'WEB Services Energy Indicators indexed',\n",
       "       'Renewable installed PV Power GW', 'Renewable installed Wind Power GW'],\n",
       "      dtype='object')"
      ]
     },
     "execution_count": 11,
     "metadata": {},
     "output_type": "execute_result"
    }
   ],
   "source": [
    "df_result.columns"
   ]
  },
  {
   "cell_type": "code",
   "execution_count": 10,
   "metadata": {},
   "outputs": [],
   "source": [
    "# Erase unwanted coluns (this needs to be solved beforehand, when creating the csv's)\n",
    "del df_result['Unnamed: 0_y'] \n",
    "del df_result['Unnamed: 0_x']\n",
    "del df_result['Unnamed: 0']"
   ]
  },
  {
   "cell_type": "markdown",
   "metadata": {},
   "source": [
    "## Generate a *.csv* from the resulting DataFrame"
   ]
  },
  {
   "cell_type": "code",
   "execution_count": 12,
   "metadata": {},
   "outputs": [],
   "source": [
    "df_result.to_csv('General_Dataframe.csv')"
   ]
  }
 ],
 "metadata": {
  "kernelspec": {
   "display_name": "Python 3",
   "language": "python",
   "name": "python3"
  },
  "language_info": {
   "codemirror_mode": {
    "name": "ipython",
    "version": 3
   },
   "file_extension": ".py",
   "mimetype": "text/x-python",
   "name": "python",
   "nbconvert_exporter": "python",
   "pygments_lexer": "ipython3",
   "version": "3.8.3"
  }
 },
 "nbformat": 4,
 "nbformat_minor": 4
}
