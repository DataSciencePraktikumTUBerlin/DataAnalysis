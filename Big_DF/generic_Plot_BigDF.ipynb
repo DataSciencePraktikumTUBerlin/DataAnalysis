{
 "cells": [
  {
   "cell_type": "markdown",
   "metadata": {},
   "source": [
    "# Plot the general DataFrame"
   ]
  },
  {
   "cell_type": "code",
   "execution_count": null,
   "metadata": {},
   "outputs": [],
   "source": [
    "import pandas as pd\n",
    "import seaborn as sns\n",
    "import matplotlib.pyplot as plt"
   ]
  },
  {
   "cell_type": "code",
   "execution_count": null,
   "metadata": {},
   "outputs": [],
   "source": [
    "# Here some features of the seaborn package or an eventual coupling \n",
    "# with R to use the GGPlot library is to be introduced\n",
    "# Use Guillermo's preferences for graph aesthetics\n",
    "sns.set_context('notebook')\n",
    "sns.set_style('darkgrid')\n",
    "sns.set(font_scale=1.5)"
   ]
  },
  {
   "cell_type": "code",
   "execution_count": null,
   "metadata": {},
   "outputs": [],
   "source": [
    " df_graph= pd.read_csv('General_Dataframe.csv')"
   ]
  },
  {
   "cell_type": "code",
   "execution_count": null,
   "metadata": {},
   "outputs": [],
   "source": [
    "df_graph.dtypes"
   ]
  },
  {
   "cell_type": "code",
   "execution_count": null,
   "metadata": {},
   "outputs": [],
   "source": [
    "df_graph.dtypes.tolist()"
   ]
  },
  {
   "cell_type": "code",
   "execution_count": null,
   "metadata": {},
   "outputs": [],
   "source": [
    "del df_graph['Unnamed: 0']"
   ]
  },
  {
   "cell_type": "code",
   "execution_count": null,
   "metadata": {},
   "outputs": [],
   "source": [
    "indicators = df_graph.columns.to_list()"
   ]
  },
  {
   "cell_type": "code",
   "execution_count": null,
   "metadata": {},
   "outputs": [],
   "source": [
    "indicators.pop(indicators.index('Country'))+ indicators.pop(indicators.index('Years'))"
   ]
  },
  {
   "cell_type": "code",
   "execution_count": null,
   "metadata": {},
   "outputs": [],
   "source": [
    "indicators"
   ]
  },
  {
   "cell_type": "code",
   "execution_count": null,
   "metadata": {},
   "outputs": [],
   "source": [
    "for indic in indicators:\n",
    "    # Set figure size (width, height) in inches \n",
    "    fig, ax = plt.subplots(figsize = ( 15 , 6 )) \n",
    "    # Plot the scatterplot \n",
    "    sns.pointplot(ax = ax , x='Years', y=indic, data=df_graph, hue='Country')\n",
    "    # Set label for x-axis \n",
    "    ax.set_xlabel( 'Years' , size = 12 ) \n",
    "    # Set label for y-axis \n",
    "    ax.set_ylabel( indic , size = 12 ) \n",
    "    # Set title for plot \n",
    "    ax.set_title( indic , size = 24 ) \n",
    "    # Save the figure\n",
    "    plt.savefig(indic +'.jpg')\n",
    "    # Display figure \n",
    "    plt.show() "
   ]
  }
 ],
 "metadata": {
  "kernelspec": {
   "display_name": "Python 3",
   "language": "python",
   "name": "python3"
  },
  "language_info": {
   "codemirror_mode": {
    "name": "ipython",
    "version": 3
   },
   "file_extension": ".py",
   "mimetype": "text/x-python",
   "name": "python",
   "nbconvert_exporter": "python",
   "pygments_lexer": "ipython3",
   "version": "3.8.3"
  }
 },
 "nbformat": 4,
 "nbformat_minor": 4
}
