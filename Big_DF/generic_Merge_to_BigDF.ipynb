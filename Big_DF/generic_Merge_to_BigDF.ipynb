{
 "cells": [
  {
   "cell_type": "markdown",
   "metadata": {},
   "source": [
    "# Merge the generated *.csv*\n",
    "This **pipeline** shows how to generate a general dataframe, and its .csv file, from all the *.csv* files on the *select_df* folder. The files need to be manually selected and copy/pasted form the *result_df* folder."
   ]
  },
  {
   "cell_type": "markdown",
   "metadata": {},
   "source": [
    "## Preliminars\n",
    "Build the list of .csv, then dataframes, to be merged"
   ]
  },
  {
   "cell_type": "code",
   "execution_count": null,
   "metadata": {},
   "outputs": [],
   "source": [
    "# Imports\n",
    "import pandas as pd\n",
    "import numpy as np\n",
    "import glob"
   ]
  },
  {
   "cell_type": "code",
   "execution_count": null,
   "metadata": {},
   "outputs": [],
   "source": [
    "# Identify files\n",
    "csv_list = glob.glob('select_df/*.csv', recursive=True)\n",
    "#csv_list = [file.replace('select_df\\\\', '') for file in csv_list]\n",
    "#print(csv_list)"
   ]
  },
  {
   "cell_type": "code",
   "execution_count": null,
   "metadata": {},
   "outputs": [],
   "source": [
    "# Generate all dataframes and store them in a dict\n",
    "df_dict = {}\n",
    "for csv_file in csv_list:\n",
    "    df_dict[csv_file.replace('select_df\\\\', '').replace('.csv', '')] = pd.read_csv(csv_file)"
   ]
  },
  {
   "cell_type": "code",
   "execution_count": null,
   "metadata": {},
   "outputs": [],
   "source": [
    "# Check the keys (csv's transformed/stored\n",
    "df_dict.keys()"
   ]
  },
  {
   "cell_type": "code",
   "execution_count": null,
   "metadata": {},
   "outputs": [],
   "source": [
    "# Check the columns of the selected DataFrames\n",
    "df_columns = []\n",
    "i=0\n",
    "# Generate list of column names\n",
    "for csv_file in csv_list:\n",
    "    df_columns = df_columns + df_dict[csv_file.replace('select_df\\\\', '').replace('.csv', '')].columns.tolist()\n",
    "# Find and print the unique values\n",
    "df_columns = np.array(df_columns)\n",
    "df_columns_u = np.unique(df_columns)\n",
    "df_columns_u"
   ]
  },
  {
   "cell_type": "code",
   "execution_count": null,
   "metadata": {},
   "outputs": [],
   "source": [
    "# Columns to be erased using:\n",
    "# del df['column name'] "
   ]
  },
  {
   "cell_type": "markdown",
   "metadata": {},
   "source": [
    "## Merge the stored DataFrames"
   ]
  },
  {
   "cell_type": "code",
   "execution_count": null,
   "metadata": {},
   "outputs": [],
   "source": [
    "# Create empty DataFrame to begin \n",
    "df_result = pd.DataFrame(columns =['Country', 'Years'])"
   ]
  },
  {
   "cell_type": "code",
   "execution_count": null,
   "metadata": {},
   "outputs": [],
   "source": [
    "# Merge all the dataframes in the dict\n",
    "for df_name, df in df_dict.items():\n",
    "    df_result = pd.merge(df_result, df, how=\"outer\", on=[\"Country\", \"Years\"])"
   ]
  },
  {
   "cell_type": "code",
   "execution_count": null,
   "metadata": {},
   "outputs": [],
   "source": [
    "df_result.head()"
   ]
  },
  {
   "cell_type": "code",
   "execution_count": null,
   "metadata": {},
   "outputs": [],
   "source": [
    "df_result.columns"
   ]
  },
  {
   "cell_type": "code",
   "execution_count": null,
   "metadata": {},
   "outputs": [],
   "source": [
    "# Erase unwanted coluns (this needs to be solved beforehand, when creating the csv's)\n",
    "del df_result['Unnamed: 0_y'] \n",
    "del df_result['Unnamed: 0_x']\n",
    "del df_result['Unnamed: 0']"
   ]
  },
  {
   "cell_type": "markdown",
   "metadata": {},
   "source": [
    "## Generate a *.csv* from the resulting DataFrame"
   ]
  },
  {
   "cell_type": "code",
   "execution_count": null,
   "metadata": {},
   "outputs": [],
   "source": [
    "df_result.to_csv('General_Dataframe.csv')"
   ]
  }
 ],
 "metadata": {
  "kernelspec": {
   "display_name": "Python 3",
   "language": "python",
   "name": "python3"
  },
  "language_info": {
   "codemirror_mode": {
    "name": "ipython",
    "version": 3
   },
   "file_extension": ".py",
   "mimetype": "text/x-python",
   "name": "python",
   "nbconvert_exporter": "python",
   "pygments_lexer": "ipython3",
   "version": "3.8.5"
  }
 },
 "nbformat": 4,
 "nbformat_minor": 4
}
