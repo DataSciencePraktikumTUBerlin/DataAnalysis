{
 "cells": [
  {
   "cell_type": "code",
   "execution_count": 63,
   "metadata": {},
   "outputs": [],
   "source": [
    "import pandas as pd\n",
    "import numpy as np\n",
    "import matplotlib as plt\n",
    "import seaborn as sns"
   ]
  },
  {
   "cell_type": "markdown",
   "metadata": {},
   "source": [
    "load data"
   ]
  },
  {
   "cell_type": "code",
   "execution_count": 64,
   "metadata": {},
   "outputs": [],
   "source": [
    "# source_name = 'qu_solar_PV_Power00-19.csv'\n",
    "d1 = pd.read_csv('old_result_df/prevb_sharw.csv', index_col=0) # Wind and solar share electricity production%\n",
    "d2 = pd.read_csv('old_result_df/preva_inten.csv', index_col=0) # Energy intensity level of primary energy (MJ/2011 USD PPP)\n",
    "df = pd.merge(d1, d2)"
   ]
  },
  {
   "cell_type": "code",
   "execution_count": 65,
   "metadata": {},
   "outputs": [
    {
     "data": {
      "text/html": [
       "<div>\n",
       "<style scoped>\n",
       "    .dataframe tbody tr th:only-of-type {\n",
       "        vertical-align: middle;\n",
       "    }\n",
       "\n",
       "    .dataframe tbody tr th {\n",
       "        vertical-align: top;\n",
       "    }\n",
       "\n",
       "    .dataframe thead th {\n",
       "        text-align: right;\n",
       "    }\n",
       "</style>\n",
       "<table border=\"1\" class=\"dataframe\">\n",
       "  <thead>\n",
       "    <tr style=\"text-align: right;\">\n",
       "      <th></th>\n",
       "      <th>Country</th>\n",
       "      <th>Years</th>\n",
       "      <th>Wind and solar share electricity production%</th>\n",
       "      <th>Energy intensity level of primary energy (MJ/2011 USD PPP) [6.1_PRIMARY.ENERGY.INTENSITY]</th>\n",
       "    </tr>\n",
       "  </thead>\n",
       "  <tbody>\n",
       "    <tr>\n",
       "      <th>0</th>\n",
       "      <td>Germany</td>\n",
       "      <td>2000</td>\n",
       "      <td>1.63</td>\n",
       "      <td>4.635294</td>\n",
       "    </tr>\n",
       "    <tr>\n",
       "      <th>1</th>\n",
       "      <td>United States</td>\n",
       "      <td>2000</td>\n",
       "      <td>0.52</td>\n",
       "      <td>7.335371</td>\n",
       "    </tr>\n",
       "    <tr>\n",
       "      <th>2</th>\n",
       "      <td>China</td>\n",
       "      <td>2000</td>\n",
       "      <td>0.06</td>\n",
       "      <td>10.233051</td>\n",
       "    </tr>\n",
       "    <tr>\n",
       "      <th>3</th>\n",
       "      <td>India</td>\n",
       "      <td>2000</td>\n",
       "      <td>0.30</td>\n",
       "      <td>6.949595</td>\n",
       "    </tr>\n",
       "    <tr>\n",
       "      <th>4</th>\n",
       "      <td>Germany</td>\n",
       "      <td>2001</td>\n",
       "      <td>1.80</td>\n",
       "      <td>4.694757</td>\n",
       "    </tr>\n",
       "    <tr>\n",
       "      <th>...</th>\n",
       "      <td>...</td>\n",
       "      <td>...</td>\n",
       "      <td>...</td>\n",
       "      <td>...</td>\n",
       "    </tr>\n",
       "    <tr>\n",
       "      <th>59</th>\n",
       "      <td>India</td>\n",
       "      <td>2014</td>\n",
       "      <td>3.27</td>\n",
       "      <td>4.960149</td>\n",
       "    </tr>\n",
       "    <tr>\n",
       "      <th>60</th>\n",
       "      <td>Germany</td>\n",
       "      <td>2015</td>\n",
       "      <td>18.53</td>\n",
       "      <td>3.603094</td>\n",
       "    </tr>\n",
       "    <tr>\n",
       "      <th>61</th>\n",
       "      <td>United States</td>\n",
       "      <td>2015</td>\n",
       "      <td>5.86</td>\n",
       "      <td>5.408393</td>\n",
       "    </tr>\n",
       "    <tr>\n",
       "      <th>62</th>\n",
       "      <td>China</td>\n",
       "      <td>2015</td>\n",
       "      <td>3.94</td>\n",
       "      <td>6.690070</td>\n",
       "    </tr>\n",
       "    <tr>\n",
       "      <th>63</th>\n",
       "      <td>India</td>\n",
       "      <td>2015</td>\n",
       "      <td>3.50</td>\n",
       "      <td>4.730910</td>\n",
       "    </tr>\n",
       "  </tbody>\n",
       "</table>\n",
       "<p>64 rows × 4 columns</p>\n",
       "</div>"
      ],
      "text/plain": [
       "          Country  Years  Wind and solar share electricity production%  \\\n",
       "0         Germany   2000                                          1.63   \n",
       "1   United States   2000                                          0.52   \n",
       "2           China   2000                                          0.06   \n",
       "3           India   2000                                          0.30   \n",
       "4         Germany   2001                                          1.80   \n",
       "..            ...    ...                                           ...   \n",
       "59          India   2014                                          3.27   \n",
       "60        Germany   2015                                         18.53   \n",
       "61  United States   2015                                          5.86   \n",
       "62          China   2015                                          3.94   \n",
       "63          India   2015                                          3.50   \n",
       "\n",
       "    Energy intensity level of primary energy (MJ/2011 USD PPP) [6.1_PRIMARY.ENERGY.INTENSITY]  \n",
       "0                                            4.635294                                          \n",
       "1                                            7.335371                                          \n",
       "2                                           10.233051                                          \n",
       "3                                            6.949595                                          \n",
       "4                                            4.694757                                          \n",
       "..                                                ...                                          \n",
       "59                                           4.960149                                          \n",
       "60                                           3.603094                                          \n",
       "61                                           5.408393                                          \n",
       "62                                           6.690070                                          \n",
       "63                                           4.730910                                          \n",
       "\n",
       "[64 rows x 4 columns]"
      ]
     },
     "execution_count": 65,
     "metadata": {},
     "output_type": "execute_result"
    }
   ],
   "source": [
    "df"
   ]
  },
  {
   "cell_type": "code",
   "execution_count": 66,
   "metadata": {},
   "outputs": [
    {
     "data": {
      "text/plain": [
       "array([2000, 2001, 2002, 2003, 2004, 2005, 2006, 2007, 2008, 2009, 2010,\n",
       "       2011, 2012, 2013, 2014, 2015])"
      ]
     },
     "execution_count": 66,
     "metadata": {},
     "output_type": "execute_result"
    }
   ],
   "source": [
    "df['Years'].unique()"
   ]
  },
  {
   "cell_type": "code",
   "execution_count": null,
   "metadata": {},
   "outputs": [],
   "source": []
  },
  {
   "cell_type": "code",
   "execution_count": 67,
   "metadata": {},
   "outputs": [
    {
     "data": {
      "text/plain": [
       "array(['Germany', 'United States', 'China', 'India'], dtype=object)"
      ]
     },
     "execution_count": 67,
     "metadata": {},
     "output_type": "execute_result"
    }
   ],
   "source": [
    "df['Country'].unique()"
   ]
  },
  {
   "cell_type": "code",
   "execution_count": 68,
   "metadata": {},
   "outputs": [
    {
     "data": {
      "text/plain": [
       "Index(['Country', 'Years', 'Wind and solar share electricity production%',\n",
       "       'Energy intensity level of primary energy (MJ/2011 USD PPP) [6.1_PRIMARY.ENERGY.INTENSITY]'],\n",
       "      dtype='object')"
      ]
     },
     "execution_count": 68,
     "metadata": {},
     "output_type": "execute_result"
    }
   ],
   "source": [
    "df.columns"
   ]
  },
  {
   "cell_type": "code",
   "execution_count": 69,
   "metadata": {},
   "outputs": [],
   "source": [
    "df=df.rename(columns={'Energy intensity level of primary energy (MJ/2011 USD PPP) [6.1_PRIMARY.ENERGY.INTENSITY]':'Energy intensity level of primary energy (MJ/2011 USD PPP)'})\n",
    "#df=df.rename(columns={'Total electricity output (GWh) [4.1.1_TOTAL.ELECTRICITY.OUTPUT]':'Total electricity output (GWh)'})"
   ]
  },
  {
   "cell_type": "code",
   "execution_count": 70,
   "metadata": {},
   "outputs": [
    {
     "data": {
      "text/html": [
       "<div>\n",
       "<style scoped>\n",
       "    .dataframe tbody tr th:only-of-type {\n",
       "        vertical-align: middle;\n",
       "    }\n",
       "\n",
       "    .dataframe tbody tr th {\n",
       "        vertical-align: top;\n",
       "    }\n",
       "\n",
       "    .dataframe thead th {\n",
       "        text-align: right;\n",
       "    }\n",
       "</style>\n",
       "<table border=\"1\" class=\"dataframe\">\n",
       "  <thead>\n",
       "    <tr style=\"text-align: right;\">\n",
       "      <th></th>\n",
       "      <th>Country</th>\n",
       "      <th>Years</th>\n",
       "      <th>Wind and solar share electricity production%</th>\n",
       "      <th>Energy intensity level of primary energy (MJ/2011 USD PPP)</th>\n",
       "    </tr>\n",
       "  </thead>\n",
       "  <tbody>\n",
       "    <tr>\n",
       "      <th>0</th>\n",
       "      <td>Germany</td>\n",
       "      <td>2000</td>\n",
       "      <td>1.63</td>\n",
       "      <td>4.635294</td>\n",
       "    </tr>\n",
       "    <tr>\n",
       "      <th>1</th>\n",
       "      <td>United States</td>\n",
       "      <td>2000</td>\n",
       "      <td>0.52</td>\n",
       "      <td>7.335371</td>\n",
       "    </tr>\n",
       "    <tr>\n",
       "      <th>2</th>\n",
       "      <td>China</td>\n",
       "      <td>2000</td>\n",
       "      <td>0.06</td>\n",
       "      <td>10.233051</td>\n",
       "    </tr>\n",
       "    <tr>\n",
       "      <th>3</th>\n",
       "      <td>India</td>\n",
       "      <td>2000</td>\n",
       "      <td>0.30</td>\n",
       "      <td>6.949595</td>\n",
       "    </tr>\n",
       "    <tr>\n",
       "      <th>4</th>\n",
       "      <td>Germany</td>\n",
       "      <td>2001</td>\n",
       "      <td>1.80</td>\n",
       "      <td>4.694757</td>\n",
       "    </tr>\n",
       "    <tr>\n",
       "      <th>...</th>\n",
       "      <td>...</td>\n",
       "      <td>...</td>\n",
       "      <td>...</td>\n",
       "      <td>...</td>\n",
       "    </tr>\n",
       "    <tr>\n",
       "      <th>59</th>\n",
       "      <td>India</td>\n",
       "      <td>2014</td>\n",
       "      <td>3.27</td>\n",
       "      <td>4.960149</td>\n",
       "    </tr>\n",
       "    <tr>\n",
       "      <th>60</th>\n",
       "      <td>Germany</td>\n",
       "      <td>2015</td>\n",
       "      <td>18.53</td>\n",
       "      <td>3.603094</td>\n",
       "    </tr>\n",
       "    <tr>\n",
       "      <th>61</th>\n",
       "      <td>United States</td>\n",
       "      <td>2015</td>\n",
       "      <td>5.86</td>\n",
       "      <td>5.408393</td>\n",
       "    </tr>\n",
       "    <tr>\n",
       "      <th>62</th>\n",
       "      <td>China</td>\n",
       "      <td>2015</td>\n",
       "      <td>3.94</td>\n",
       "      <td>6.690070</td>\n",
       "    </tr>\n",
       "    <tr>\n",
       "      <th>63</th>\n",
       "      <td>India</td>\n",
       "      <td>2015</td>\n",
       "      <td>3.50</td>\n",
       "      <td>4.730910</td>\n",
       "    </tr>\n",
       "  </tbody>\n",
       "</table>\n",
       "<p>64 rows × 4 columns</p>\n",
       "</div>"
      ],
      "text/plain": [
       "          Country  Years  Wind and solar share electricity production%  \\\n",
       "0         Germany   2000                                          1.63   \n",
       "1   United States   2000                                          0.52   \n",
       "2           China   2000                                          0.06   \n",
       "3           India   2000                                          0.30   \n",
       "4         Germany   2001                                          1.80   \n",
       "..            ...    ...                                           ...   \n",
       "59          India   2014                                          3.27   \n",
       "60        Germany   2015                                         18.53   \n",
       "61  United States   2015                                          5.86   \n",
       "62          China   2015                                          3.94   \n",
       "63          India   2015                                          3.50   \n",
       "\n",
       "    Energy intensity level of primary energy (MJ/2011 USD PPP)  \n",
       "0                                            4.635294           \n",
       "1                                            7.335371           \n",
       "2                                           10.233051           \n",
       "3                                            6.949595           \n",
       "4                                            4.694757           \n",
       "..                                                ...           \n",
       "59                                           4.960149           \n",
       "60                                           3.603094           \n",
       "61                                           5.408393           \n",
       "62                                           6.690070           \n",
       "63                                           4.730910           \n",
       "\n",
       "[64 rows x 4 columns]"
      ]
     },
     "execution_count": 70,
     "metadata": {},
     "output_type": "execute_result"
    }
   ],
   "source": [
    "df"
   ]
  },
  {
   "cell_type": "markdown",
   "metadata": {},
   "source": [
    "build plots for the countries we research"
   ]
  },
  {
   "cell_type": "code",
   "execution_count": 71,
   "metadata": {},
   "outputs": [
    {
     "data": {
      "text/plain": [
       "Index(['Country', 'Years', 'Wind and solar share electricity production%',\n",
       "       'Energy intensity level of primary energy (MJ/2011 USD PPP)'],\n",
       "      dtype='object')"
      ]
     },
     "execution_count": 71,
     "metadata": {},
     "output_type": "execute_result"
    }
   ],
   "source": [
    "df.columns"
   ]
  },
  {
   "cell_type": "code",
   "execution_count": null,
   "metadata": {},
   "outputs": [],
   "source": []
  },
  {
   "cell_type": "code",
   "execution_count": null,
   "metadata": {},
   "outputs": [],
   "source": []
  },
  {
   "cell_type": "code",
   "execution_count": 72,
   "metadata": {},
   "outputs": [],
   "source": [
    "dfg = df.groupby('Years').mean()\n",
    "dfg = dfg.reset_index()"
   ]
  },
  {
   "cell_type": "code",
   "execution_count": 73,
   "metadata": {},
   "outputs": [
    {
     "data": {
      "text/plain": [
       "0     2000\n",
       "1     2001\n",
       "2     2002\n",
       "3     2003\n",
       "4     2004\n",
       "5     2005\n",
       "6     2006\n",
       "7     2007\n",
       "8     2008\n",
       "9     2009\n",
       "10    2010\n",
       "11    2011\n",
       "12    2012\n",
       "13    2013\n",
       "14    2014\n",
       "15    2015\n",
       "Name: Years, dtype: int64"
      ]
     },
     "execution_count": 73,
     "metadata": {},
     "output_type": "execute_result"
    }
   ],
   "source": [
    "dfg['Years']"
   ]
  },
  {
   "cell_type": "code",
   "execution_count": 74,
   "metadata": {},
   "outputs": [
    {
     "data": {
      "image/png": "[encoded data removed]",
      "text/plain": [
       "<Figure size 1008x432 with 2 Axes>"
      ]
     },
     "metadata": {},
     "output_type": "display_data"
    }
   ],
   "source": [
    "\n",
    "# create figure and axis objects with subplots()\n",
    "fig,ax = plt.pyplot.subplots(1,1, figsize=(14,6))\n",
    "ax.grid(color='lightgrey')\n",
    "\n",
    "# make a plot\n",
    "ax.plot(dfg['Years'], dfg['Energy intensity level of primary energy (MJ/2011 USD PPP)'], color=\"red\", marker=\"o\")\n",
    "# set x-axis label\n",
    "ax.set_xlabel(\"year\",fontsize=14)\n",
    "# set y-axis label\n",
    "ax.set_ylabel(\"Energy intensity\",color=\"red\",fontsize=14)\n",
    "\n",
    "# twin object for two different y-axis on the sample plot\n",
    "ax2=ax.twinx()\n",
    "# make a plot with different y-axis using second axis object\n",
    "ax2.plot(dfg['Years'], dfg['Wind and solar share electricity production%'],color=\"blue\",marker=\"o\")\n",
    "ax2.set_ylabel(\"Wind and solar share\",color=\"blue\",fontsize=14)\n",
    "ax.set_title('Energy Intensity vs Wind and Solar share electricity production', size = 20)\n",
    "\n",
    "plt.pyplot.show()\n",
    "\n",
    "# save the plot as a file\n",
    "fig.savefig('Energy Intensity vs Wind and Solar share electricity production.jpg',\n",
    "            format='jpeg',\n",
    "            dpi=100,\n",
    "            bbox_inches='tight')"
   ]
  },
  {
   "cell_type": "code",
   "execution_count": null,
   "metadata": {},
   "outputs": [],
   "source": []
  },
  {
   "cell_type": "code",
   "execution_count": null,
   "metadata": {},
   "outputs": [],
   "source": []
  },
  {
   "cell_type": "code",
   "execution_count": null,
   "metadata": {},
   "outputs": [],
   "source": []
  },
  {
   "cell_type": "code",
   "execution_count": null,
   "metadata": {},
   "outputs": [],
   "source": []
  },
  {
   "cell_type": "code",
   "execution_count": null,
   "metadata": {},
   "outputs": [],
   "source": []
  },
  {
   "cell_type": "code",
   "execution_count": null,
   "metadata": {},
   "outputs": [],
   "source": []
  }
 ],
 "metadata": {
  "kernelspec": {
   "display_name": "Python 3",
   "language": "python",
   "name": "python3"
  },
  "language_info": {
   "codemirror_mode": {
    "name": "ipython",
    "version": 3
   },
   "file_extension": ".py",
   "mimetype": "text/x-python",
   "name": "python",
   "nbconvert_exporter": "python",
   "pygments_lexer": "ipython3",
   "version": "3.8.5"
  }
 },
 "nbformat": 4,
 "nbformat_minor": 2
}
