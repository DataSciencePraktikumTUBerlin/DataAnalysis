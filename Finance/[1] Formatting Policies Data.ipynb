{
 "cells": [
  {
   "cell_type": "code",
   "execution_count": 10,
   "metadata": {},
   "outputs": [],
   "source": [
    "import numpy as np\n",
    "import pandas as pd\n",
    "import pandasql as ps"
   ]
  },
  {
   "cell_type": "code",
   "execution_count": 118,
   "metadata": {},
   "outputs": [],
   "source": [
    "countries = ['China', 'Germany', 'India', 'United States']\n",
    "\n",
    "df = pd.read_csv('./Data/policies.csv', index_col=0)\n",
    "df = df[df['Year'] >= 2000]\n",
    "df = df.replace('People\\'s Republic Of China', countries[0])"
   ]
  },
  {
   "cell_type": "code",
   "execution_count": 119,
   "metadata": {},
   "outputs": [],
   "source": [
    "def process_sub_df(df, status):\n",
    "    start = 2000\n",
    "    end = 2017\n",
    "    size = end - start\n",
    "    \n",
    "    p_sub_df_year = np.array([])\n",
    "    p_sub_df_country = np.array([])\n",
    "    p_sub_df_policies = np.array([])\n",
    "\n",
    "    df = df[df['Status'] == status].groupby(['Country', 'Year']).count()\n",
    "    df = df.reset_index(level=[0, 1])\n",
    "    \n",
    "    for i, country in enumerate(countries):\n",
    "        idx = np.arange(start, end)\n",
    "        \n",
    "        c_df = df[df['Country'] == country]\n",
    "        c_df.index = c_df['Year']\n",
    "        c_df = c_df.drop(['Country', 'Year'], axis=1)\n",
    "        c_df = c_df.reindex(idx, fill_value=0)\n",
    "        c_df = c_df.reset_index()\n",
    "        \n",
    "        p_sub_df_year = np.append(p_sub_df_year, c_df['Year'])\n",
    "        p_sub_df_country = np.append(p_sub_df_country, [country] * (end - start))\n",
    "        p_sub_df_policies = np.append(p_sub_df_policies, c_df['Policy'])\n",
    "        \n",
    "    processed_sub_df = pd.DataFrame({'Year': p_sub_df_year, \n",
    "                                     'Country': p_sub_df_country,\n",
    "                                     'Policies': p_sub_df_policies})\n",
    "    return processed_sub_df\n",
    "\n",
    "in_force = process_sub_df(df, 'In force')\n",
    "ended = process_sub_df(df, 'Ended')"
   ]
  },
  {
   "cell_type": "code",
   "execution_count": 125,
   "metadata": {},
   "outputs": [],
   "source": [
    "query = \"\"\"\n",
    "    SELECT Year, Country, COUNT(*) AS Policies\n",
    "    FROM in_force\n",
    "    WHERE Year >= 2000\n",
    "    GROUP BY Year, Country\n",
    "    ORDER BY Country\n",
    "\"\"\"\n",
    "\n",
    "in_force = ps.sqldf(query)\n",
    "in_force['Policies'] = in_force.groupby('Country')['Policies'].cumsum()"
   ]
  },
  {
   "cell_type": "code",
   "execution_count": 133,
   "metadata": {},
   "outputs": [],
   "source": [
    "df = in_force.merge(ended, on=['Country', 'Year'])\n",
    "df['Number of policies'] = df['Policies_x'] + df['Policies_y']\n",
    "df = df.drop(['Policies_x', 'Policies_y'], axis=1)"
   ]
  },
  {
   "cell_type": "code",
   "execution_count": 137,
   "metadata": {},
   "outputs": [],
   "source": [
    "df.to_csv('./Data Formated/policies.csv')"
   ]
  }
 ],
 "metadata": {
  "kernelspec": {
   "display_name": "Python 3",
   "language": "python",
   "name": "python3"
  },
  "language_info": {
   "codemirror_mode": {
    "name": "ipython",
    "version": 3
   },
   "file_extension": ".py",
   "mimetype": "text/x-python",
   "name": "python",
   "nbconvert_exporter": "python",
   "pygments_lexer": "ipython3",
   "version": "3.8.5"
  }
 },
 "nbformat": 4,
 "nbformat_minor": 4
}
